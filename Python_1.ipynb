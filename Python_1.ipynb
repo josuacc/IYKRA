{
 "metadata": {
  "language_info": {
   "codemirror_mode": {
    "name": "ipython",
    "version": 3
   },
   "file_extension": ".py",
   "mimetype": "text/x-python",
   "name": "python",
   "nbconvert_exporter": "python",
   "pygments_lexer": "ipython3",
   "version": "3.9.5"
  },
  "orig_nbformat": 4,
  "kernelspec": {
   "name": "python3",
   "display_name": "Python 3.9.5 64-bit ('PythonSoftwareFoundation.Python.3.9_qbz5n2kfra8p0')"
  },
  "interpreter": {
   "hash": "04adc10dee925493bed2ed49d6133787d5db54c2eae0a2df6f8bfc5316f04d8c"
  }
 },
 "nbformat": 4,
 "nbformat_minor": 2,
 "cells": [
  {
   "cell_type": "code",
   "execution_count": 1,
   "metadata": {},
   "outputs": [],
   "source": [
    "import sqlite3\n",
    "con=sqlite3.connect('mydatabase.db')"
   ]
  },
  {
   "cell_type": "code",
   "execution_count": 2,
   "metadata": {},
   "outputs": [],
   "source": [
    "cursorObj= con.cursor()\n",
    "cursorObj.execute(\"CREATE TABLE IF NOT EXISTS transactions(trx_id INTEGER, insert_time TIMESTAMP, tx_amount FLOAT, tx_type STRING, status STRING)\")\n",
    "con.commit()"
   ]
  },
  {
   "cell_type": "code",
   "execution_count": 6,
   "metadata": {},
   "outputs": [
    {
     "output_type": "execute_result",
     "data": {
      "text/plain": [
       "<sqlite3.Cursor at 0x2a93f92a1f0>"
      ]
     },
     "metadata": {},
     "execution_count": 6
    }
   ],
   "source": [
    "data=[(14,'2008-01-01 00:00:01',33,'buy','open'),\n",
    "      (15,'2008-01-01 00:00:02',52,'sell','open'),\n",
    "      (16,'2008-01-01 00:00:03',77,'buy','open'),\n",
    "      (15,'2008-01-01 00:00:04',52,'sell','close'),\n",
    "      (14,'2008-01-01 00:00:05',33,'buy','close')]\n",
    "\n",
    "cursorObj.executemany(\"INSERT INTO transactions(trx_id, insert_time, tx_amount, tx_type, status) VALUES(?,?,?,?,?)\",data)\n"
   ]
  },
  {
   "cell_type": "code",
   "execution_count": 10,
   "metadata": {},
   "outputs": [
    {
     "output_type": "stream",
     "name": "stdout",
     "text": [
      "(14, '2008-01-01 00:00:05', 'close')\n(15, '2008-01-01 00:00:04', 'close')\n(16, '2008-01-01 00:00:03', 'open')\n"
     ]
    }
   ],
   "source": [
    "def sql_fetch(con):\n",
    "\n",
    "    cursorObj = con.cursor()\n",
    "\n",
    "    cursorObj.execute('SELECT trx_id, max(insert_time), status FROM transactions GROUP BY trx_id')\n",
    "\n",
    "    rows = cursorObj.fetchall()\n",
    "\n",
    "    for row in rows:\n",
    "\n",
    "        print(row)\n",
    "\n",
    "sql_fetch(con)\n",
    "\n",
    "con.close()"
   ]
  }
 ]
}