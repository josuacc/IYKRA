{
 "cells": [
  {
   "cell_type": "markdown",
   "id": "82738f7a",
   "metadata": {},
   "source": [
    "# Retail Transaction Analysis using Machine Learning - Josua Muliawan"
   ]
  },
  {
   "cell_type": "markdown",
   "id": "32f8cbbb",
   "metadata": {},
   "source": [
    "## Importing Packages"
   ]
  },
  {
   "cell_type": "markdown",
   "id": "1779cfcb",
   "metadata": {},
   "source": [
    "First We import the needed package"
   ]
  },
  {
   "cell_type": "code",
   "execution_count": 313,
   "id": "4db8d934",
   "metadata": {
    "scrolled": true
   },
   "outputs": [],
   "source": [
    "# IMPORTING PACKAGES\n",
    "import datetime as dt\n",
    "import pandas as pd # working with data\n",
    "import numpy as np # working with arrays\n",
    "import matplotlib.pyplot as plt # visualization\n",
    "import seaborn as sb # visualization\n",
    "from mpl_toolkits.mplot3d import Axes3D # 3d plot\n",
    "from termcolor import colored as cl # text customization\n",
    "\n",
    "from sklearn.preprocessing import StandardScaler # data normalization\n",
    "from sklearn.cluster import KMeans # K-means algorithm\n",
    "\n",
    "#Loading data\n",
    "data=pd.read_csv('ML_2_Fellow.csv',delimiter=',', encoding='iso-8859-1')"
   ]
  },
  {
   "cell_type": "markdown",
   "id": "29f03879",
   "metadata": {},
   "source": [
    "## Cleaning the Dataset"
   ]
  },
  {
   "cell_type": "markdown",
   "id": "3728b46d",
   "metadata": {},
   "source": [
    "To get a good anlysis, frist thing we need to do is cleaning the data. There are various things to look for, such as :\n",
    "- Missing Values (NaN)\n",
    "- Duplicated Row(s)\n",
    "- Invalid Value (wrong name, etc)\n",
    "\n",
    "We'll use .info() function to get quick info of our data"
   ]
  },
  {
   "cell_type": "code",
   "execution_count": 314,
   "id": "8244be06",
   "metadata": {
    "scrolled": true
   },
   "outputs": [
    {
     "name": "stdout",
     "output_type": "stream",
     "text": [
      "<class 'pandas.core.frame.DataFrame'>\n",
      "RangeIndex: 541909 entries, 0 to 541908\n",
      "Data columns (total 8 columns):\n",
      " #   Column             Non-Null Count   Dtype  \n",
      "---  ------             --------------   -----  \n",
      " 0   Kode_Bayar         541909 non-null  object \n",
      " 1   Kode_Barang        535874 non-null  object \n",
      " 2   Barang             534420 non-null  object \n",
      " 3   Jumlah             535874 non-null  float64\n",
      " 4   Tanggal_Transaksi  535874 non-null  object \n",
      " 5   Harga_Satuan       535874 non-null  float64\n",
      " 6   Kode_Pelanggan     403182 non-null  float64\n",
      " 7   Negara             535874 non-null  object \n",
      "dtypes: float64(3), object(5)\n",
      "memory usage: 33.1+ MB\n",
      "None\n"
     ]
    }
   ],
   "source": [
    "print(data.info())\n"
   ]
  },
  {
   "cell_type": "markdown",
   "id": "05e72f32",
   "metadata": {},
   "source": [
    "After this, we should check type of each column to determine if it's already correct or not"
   ]
  },
  {
   "cell_type": "code",
   "execution_count": 315,
   "id": "4737e4af",
   "metadata": {
    "scrolled": false
   },
   "outputs": [
    {
     "name": "stdout",
     "output_type": "stream",
     "text": [
      "              Jumlah   Harga_Satuan  Kode_Pelanggan\n",
      "count  535874.000000  535874.000000   403182.000000\n",
      "mean        9.587927       4.636533    15287.687868\n",
      "std       153.292222      97.302232     1714.009551\n",
      "min    -74215.000000  -11062.060000    12346.000000\n",
      "25%         1.000000       1.250000    13952.000000\n",
      "50%         3.000000       2.080000    15152.000000\n",
      "75%        10.000000       4.130000    16791.000000\n",
      "max     74215.000000   38970.000000    18287.000000\n",
      "Kode_Bayar            object\n",
      "Kode_Barang           object\n",
      "Barang                object\n",
      "Jumlah               float64\n",
      "Tanggal_Transaksi     object\n",
      "Harga_Satuan         float64\n",
      "Kode_Pelanggan       float64\n",
      "Negara                object\n",
      "dtype: object\n"
     ]
    }
   ],
   "source": [
    "print(data.describe())\n",
    "\n",
    "print(data.dtypes)"
   ]
  },
  {
   "cell_type": "markdown",
   "id": "7982b804",
   "metadata": {},
   "source": [
    "We can see that \"Tanggal_Transaksi\" type is still string. We'll need to change it to datetime type using the syntax below"
   ]
  },
  {
   "cell_type": "code",
   "execution_count": 316,
   "id": "1c2d9ca3",
   "metadata": {},
   "outputs": [],
   "source": [
    "data['Tanggal_Transaksi']=pd.to_datetime(data['Tanggal_Transaksi'])"
   ]
  },
  {
   "cell_type": "markdown",
   "id": "adca90c6",
   "metadata": {},
   "source": [
    "### Dealing with duplicates"
   ]
  },
  {
   "cell_type": "markdown",
   "id": "9efe6d82",
   "metadata": {},
   "source": [
    "Next, we will check if our data has duplicate(s) in it. This can be done using .duplicated() function on pandas"
   ]
  },
  {
   "cell_type": "code",
   "execution_count": 317,
   "id": "2539ca50",
   "metadata": {
    "scrolled": false
   },
   "outputs": [
    {
     "data": {
      "text/html": [
       "<div>\n",
       "<style scoped>\n",
       "    .dataframe tbody tr th:only-of-type {\n",
       "        vertical-align: middle;\n",
       "    }\n",
       "\n",
       "    .dataframe tbody tr th {\n",
       "        vertical-align: top;\n",
       "    }\n",
       "\n",
       "    .dataframe thead th {\n",
       "        text-align: right;\n",
       "    }\n",
       "</style>\n",
       "<table border=\"1\" class=\"dataframe\">\n",
       "  <thead>\n",
       "    <tr style=\"text-align: right;\">\n",
       "      <th></th>\n",
       "      <th>Kode_Bayar</th>\n",
       "      <th>Kode_Barang</th>\n",
       "      <th>Barang</th>\n",
       "      <th>Jumlah</th>\n",
       "      <th>Tanggal_Transaksi</th>\n",
       "      <th>Harga_Satuan</th>\n",
       "      <th>Kode_Pelanggan</th>\n",
       "      <th>Negara</th>\n",
       "    </tr>\n",
       "  </thead>\n",
       "  <tbody>\n",
       "    <tr>\n",
       "      <th>517</th>\n",
       "      <td>536409</td>\n",
       "      <td>21866</td>\n",
       "      <td>UNION JACK FLAG LUGGAGE TAG</td>\n",
       "      <td>1.0</td>\n",
       "      <td>2010-12-01 11:45:00</td>\n",
       "      <td>1.25</td>\n",
       "      <td>17908.0</td>\n",
       "      <td>United Kingdom</td>\n",
       "    </tr>\n",
       "    <tr>\n",
       "      <th>527</th>\n",
       "      <td>536409</td>\n",
       "      <td>22866</td>\n",
       "      <td>HAND WARMER SCOTTY DOG DESIGN</td>\n",
       "      <td>1.0</td>\n",
       "      <td>2010-12-01 11:45:00</td>\n",
       "      <td>2.10</td>\n",
       "      <td>17908.0</td>\n",
       "      <td>United Kingdom</td>\n",
       "    </tr>\n",
       "    <tr>\n",
       "      <th>537</th>\n",
       "      <td>536409</td>\n",
       "      <td>22900</td>\n",
       "      <td>SET 2 TEA TOWELS I LOVE LONDON</td>\n",
       "      <td>1.0</td>\n",
       "      <td>2010-12-01 11:45:00</td>\n",
       "      <td>2.95</td>\n",
       "      <td>17908.0</td>\n",
       "      <td>United Kingdom</td>\n",
       "    </tr>\n",
       "    <tr>\n",
       "      <th>539</th>\n",
       "      <td>536409</td>\n",
       "      <td>22111</td>\n",
       "      <td>SCOTTIE DOG HOT WATER BOTTLE</td>\n",
       "      <td>1.0</td>\n",
       "      <td>2010-12-01 11:45:00</td>\n",
       "      <td>4.95</td>\n",
       "      <td>17908.0</td>\n",
       "      <td>United Kingdom</td>\n",
       "    </tr>\n",
       "    <tr>\n",
       "      <th>555</th>\n",
       "      <td>536412</td>\n",
       "      <td>22327</td>\n",
       "      <td>ROUND SNACK BOXES SET OF 4 SKULLS</td>\n",
       "      <td>1.0</td>\n",
       "      <td>2010-12-01 11:49:00</td>\n",
       "      <td>2.95</td>\n",
       "      <td>17920.0</td>\n",
       "      <td>United Kingdom</td>\n",
       "    </tr>\n",
       "    <tr>\n",
       "      <th>...</th>\n",
       "      <td>...</td>\n",
       "      <td>...</td>\n",
       "      <td>...</td>\n",
       "      <td>...</td>\n",
       "      <td>...</td>\n",
       "      <td>...</td>\n",
       "      <td>...</td>\n",
       "      <td>...</td>\n",
       "    </tr>\n",
       "    <tr>\n",
       "      <th>541675</th>\n",
       "      <td>581538</td>\n",
       "      <td>22068</td>\n",
       "      <td>BLACK PIRATE TREASURE CHEST</td>\n",
       "      <td>1.0</td>\n",
       "      <td>2011-12-09 11:34:00</td>\n",
       "      <td>0.39</td>\n",
       "      <td>14446.0</td>\n",
       "      <td>United Kingdom</td>\n",
       "    </tr>\n",
       "    <tr>\n",
       "      <th>541689</th>\n",
       "      <td>581538</td>\n",
       "      <td>23318</td>\n",
       "      <td>BOX OF 6 MINI VINTAGE CRACKERS</td>\n",
       "      <td>1.0</td>\n",
       "      <td>2011-12-09 11:34:00</td>\n",
       "      <td>2.49</td>\n",
       "      <td>14446.0</td>\n",
       "      <td>United Kingdom</td>\n",
       "    </tr>\n",
       "    <tr>\n",
       "      <th>541692</th>\n",
       "      <td>581538</td>\n",
       "      <td>22992</td>\n",
       "      <td>REVOLVER WOODEN RULER</td>\n",
       "      <td>1.0</td>\n",
       "      <td>2011-12-09 11:34:00</td>\n",
       "      <td>1.95</td>\n",
       "      <td>14446.0</td>\n",
       "      <td>United Kingdom</td>\n",
       "    </tr>\n",
       "    <tr>\n",
       "      <th>541699</th>\n",
       "      <td>581538</td>\n",
       "      <td>22694</td>\n",
       "      <td>WICKER STAR</td>\n",
       "      <td>1.0</td>\n",
       "      <td>2011-12-09 11:34:00</td>\n",
       "      <td>2.10</td>\n",
       "      <td>14446.0</td>\n",
       "      <td>United Kingdom</td>\n",
       "    </tr>\n",
       "    <tr>\n",
       "      <th>541701</th>\n",
       "      <td>581538</td>\n",
       "      <td>23343</td>\n",
       "      <td>JUMBO BAG VINTAGE CHRISTMAS</td>\n",
       "      <td>1.0</td>\n",
       "      <td>2011-12-09 11:34:00</td>\n",
       "      <td>2.08</td>\n",
       "      <td>14446.0</td>\n",
       "      <td>United Kingdom</td>\n",
       "    </tr>\n",
       "  </tbody>\n",
       "</table>\n",
       "<p>5268 rows × 8 columns</p>\n",
       "</div>"
      ],
      "text/plain": [
       "       Kode_Bayar Kode_Barang                             Barang  Jumlah  \\\n",
       "517        536409       21866        UNION JACK FLAG LUGGAGE TAG     1.0   \n",
       "527        536409       22866      HAND WARMER SCOTTY DOG DESIGN     1.0   \n",
       "537        536409       22900    SET 2 TEA TOWELS I LOVE LONDON      1.0   \n",
       "539        536409       22111       SCOTTIE DOG HOT WATER BOTTLE     1.0   \n",
       "555        536412       22327  ROUND SNACK BOXES SET OF 4 SKULLS     1.0   \n",
       "...           ...         ...                                ...     ...   \n",
       "541675     581538       22068        BLACK PIRATE TREASURE CHEST     1.0   \n",
       "541689     581538       23318     BOX OF 6 MINI VINTAGE CRACKERS     1.0   \n",
       "541692     581538       22992             REVOLVER WOODEN RULER      1.0   \n",
       "541699     581538       22694                       WICKER STAR      1.0   \n",
       "541701     581538       23343       JUMBO BAG VINTAGE CHRISTMAS      1.0   \n",
       "\n",
       "         Tanggal_Transaksi  Harga_Satuan  Kode_Pelanggan          Negara  \n",
       "517    2010-12-01 11:45:00          1.25         17908.0  United Kingdom  \n",
       "527    2010-12-01 11:45:00          2.10         17908.0  United Kingdom  \n",
       "537    2010-12-01 11:45:00          2.95         17908.0  United Kingdom  \n",
       "539    2010-12-01 11:45:00          4.95         17908.0  United Kingdom  \n",
       "555    2010-12-01 11:49:00          2.95         17920.0  United Kingdom  \n",
       "...                    ...           ...             ...             ...  \n",
       "541675 2011-12-09 11:34:00          0.39         14446.0  United Kingdom  \n",
       "541689 2011-12-09 11:34:00          2.49         14446.0  United Kingdom  \n",
       "541692 2011-12-09 11:34:00          1.95         14446.0  United Kingdom  \n",
       "541699 2011-12-09 11:34:00          2.10         14446.0  United Kingdom  \n",
       "541701 2011-12-09 11:34:00          2.08         14446.0  United Kingdom  \n",
       "\n",
       "[5268 rows x 8 columns]"
      ]
     },
     "execution_count": 317,
     "metadata": {},
     "output_type": "execute_result"
    }
   ],
   "source": [
    "data[data.duplicated()]"
   ]
  },
  {
   "cell_type": "markdown",
   "id": "a42e7e84",
   "metadata": {},
   "source": [
    "Turns out there's more than 5 thousand entry that is a duplicate. We can clean this by subsetting only the row that is not a duplicate. This can be done using .duplicated() function"
   ]
  },
  {
   "cell_type": "code",
   "execution_count": 318,
   "id": "3cf0841c",
   "metadata": {
    "scrolled": false
   },
   "outputs": [
    {
     "data": {
      "text/html": [
       "<div>\n",
       "<style scoped>\n",
       "    .dataframe tbody tr th:only-of-type {\n",
       "        vertical-align: middle;\n",
       "    }\n",
       "\n",
       "    .dataframe tbody tr th {\n",
       "        vertical-align: top;\n",
       "    }\n",
       "\n",
       "    .dataframe thead th {\n",
       "        text-align: right;\n",
       "    }\n",
       "</style>\n",
       "<table border=\"1\" class=\"dataframe\">\n",
       "  <thead>\n",
       "    <tr style=\"text-align: right;\">\n",
       "      <th></th>\n",
       "      <th>Kode_Bayar</th>\n",
       "      <th>Kode_Barang</th>\n",
       "      <th>Barang</th>\n",
       "      <th>Jumlah</th>\n",
       "      <th>Tanggal_Transaksi</th>\n",
       "      <th>Harga_Satuan</th>\n",
       "      <th>Kode_Pelanggan</th>\n",
       "      <th>Negara</th>\n",
       "    </tr>\n",
       "  </thead>\n",
       "  <tbody>\n",
       "    <tr>\n",
       "      <th>0</th>\n",
       "      <td>536365</td>\n",
       "      <td>85123A</td>\n",
       "      <td>WHITE HANGING HEART T-LIGHT HOLDER</td>\n",
       "      <td>6.0</td>\n",
       "      <td>2010-12-01 08:26:00</td>\n",
       "      <td>2.55</td>\n",
       "      <td>17850.0</td>\n",
       "      <td>United Kingdom</td>\n",
       "    </tr>\n",
       "    <tr>\n",
       "      <th>1</th>\n",
       "      <td>536365</td>\n",
       "      <td>71053</td>\n",
       "      <td>WHITE METAL LANTERN</td>\n",
       "      <td>6.0</td>\n",
       "      <td>2010-12-01 08:26:00</td>\n",
       "      <td>3.39</td>\n",
       "      <td>17850.0</td>\n",
       "      <td>United Kingdom</td>\n",
       "    </tr>\n",
       "    <tr>\n",
       "      <th>2</th>\n",
       "      <td>536365</td>\n",
       "      <td>84406B</td>\n",
       "      <td>CREAM CUPID HEARTS COAT HANGER</td>\n",
       "      <td>8.0</td>\n",
       "      <td>2010-12-01 08:26:00</td>\n",
       "      <td>2.75</td>\n",
       "      <td>17850.0</td>\n",
       "      <td>United Kingdom</td>\n",
       "    </tr>\n",
       "    <tr>\n",
       "      <th>3</th>\n",
       "      <td>536365</td>\n",
       "      <td>84029G</td>\n",
       "      <td>KNITTED UNION FLAG HOT WATER BOTTLE</td>\n",
       "      <td>6.0</td>\n",
       "      <td>2010-12-01 08:26:00</td>\n",
       "      <td>3.39</td>\n",
       "      <td>17850.0</td>\n",
       "      <td>United Kingdom</td>\n",
       "    </tr>\n",
       "    <tr>\n",
       "      <th>4</th>\n",
       "      <td>536365</td>\n",
       "      <td>84029E</td>\n",
       "      <td>RED WOOLLY HOTTIE WHITE HEART.</td>\n",
       "      <td>6.0</td>\n",
       "      <td>2010-12-01 08:26:00</td>\n",
       "      <td>3.39</td>\n",
       "      <td>17850.0</td>\n",
       "      <td>United Kingdom</td>\n",
       "    </tr>\n",
       "  </tbody>\n",
       "</table>\n",
       "</div>"
      ],
      "text/plain": [
       "  Kode_Bayar Kode_Barang                               Barang  Jumlah  \\\n",
       "0     536365      85123A   WHITE HANGING HEART T-LIGHT HOLDER     6.0   \n",
       "1     536365       71053                  WHITE METAL LANTERN     6.0   \n",
       "2     536365      84406B       CREAM CUPID HEARTS COAT HANGER     8.0   \n",
       "3     536365      84029G  KNITTED UNION FLAG HOT WATER BOTTLE     6.0   \n",
       "4     536365      84029E       RED WOOLLY HOTTIE WHITE HEART.     6.0   \n",
       "\n",
       "    Tanggal_Transaksi  Harga_Satuan  Kode_Pelanggan          Negara  \n",
       "0 2010-12-01 08:26:00          2.55         17850.0  United Kingdom  \n",
       "1 2010-12-01 08:26:00          3.39         17850.0  United Kingdom  \n",
       "2 2010-12-01 08:26:00          2.75         17850.0  United Kingdom  \n",
       "3 2010-12-01 08:26:00          3.39         17850.0  United Kingdom  \n",
       "4 2010-12-01 08:26:00          3.39         17850.0  United Kingdom  "
      ]
     },
     "execution_count": 318,
     "metadata": {},
     "output_type": "execute_result"
    }
   ],
   "source": [
    "data=data[~data.duplicated()]\n",
    "data.head()"
   ]
  },
  {
   "cell_type": "markdown",
   "id": "8c08aab1",
   "metadata": {},
   "source": [
    "### Dealing with Missing Values"
   ]
  },
  {
   "cell_type": "markdown",
   "id": "df8e1a67",
   "metadata": {},
   "source": [
    "Upon closer inspection, there's an anomaly with the data, where rows with most of it's value missing turn out having error in parsing. All of the information gets jumbled in one column (Kode_Bayar)"
   ]
  },
  {
   "cell_type": "code",
   "execution_count": 319,
   "id": "1a0a9bad",
   "metadata": {},
   "outputs": [
    {
     "data": {
      "text/html": [
       "<div>\n",
       "<style scoped>\n",
       "    .dataframe tbody tr th:only-of-type {\n",
       "        vertical-align: middle;\n",
       "    }\n",
       "\n",
       "    .dataframe tbody tr th {\n",
       "        vertical-align: top;\n",
       "    }\n",
       "\n",
       "    .dataframe thead th {\n",
       "        text-align: right;\n",
       "    }\n",
       "</style>\n",
       "<table border=\"1\" class=\"dataframe\">\n",
       "  <thead>\n",
       "    <tr style=\"text-align: right;\">\n",
       "      <th></th>\n",
       "      <th>Kode_Bayar</th>\n",
       "      <th>Kode_Barang</th>\n",
       "      <th>Barang</th>\n",
       "      <th>Jumlah</th>\n",
       "      <th>Tanggal_Transaksi</th>\n",
       "      <th>Harga_Satuan</th>\n",
       "      <th>Kode_Pelanggan</th>\n",
       "      <th>Negara</th>\n",
       "    </tr>\n",
       "  </thead>\n",
       "  <tbody>\n",
       "    <tr>\n",
       "      <th>109</th>\n",
       "      <td>536381,82567,\"AIRLINE LOUNGE,METAL SIGN\",2,12/...</td>\n",
       "      <td>NaN</td>\n",
       "      <td>NaN</td>\n",
       "      <td>NaN</td>\n",
       "      <td>NaT</td>\n",
       "      <td>NaN</td>\n",
       "      <td>NaN</td>\n",
       "      <td>NaN</td>\n",
       "    </tr>\n",
       "    <tr>\n",
       "      <th>253</th>\n",
       "      <td>536394,21506,\"FANCY FONT BIRTHDAY CARD, \",24,1...</td>\n",
       "      <td>NaN</td>\n",
       "      <td>NaN</td>\n",
       "      <td>NaN</td>\n",
       "      <td>NaT</td>\n",
       "      <td>NaN</td>\n",
       "      <td>NaN</td>\n",
       "      <td>NaN</td>\n",
       "    </tr>\n",
       "    <tr>\n",
       "      <th>871</th>\n",
       "      <td>536477,22041,\"RECORD FRAME 7\"\" SINGLE SIZE \",4...</td>\n",
       "      <td>NaN</td>\n",
       "      <td>NaN</td>\n",
       "      <td>NaN</td>\n",
       "      <td>NaT</td>\n",
       "      <td>NaN</td>\n",
       "      <td>NaN</td>\n",
       "      <td>NaN</td>\n",
       "    </tr>\n",
       "    <tr>\n",
       "      <th>956</th>\n",
       "      <td>536520,22760,\"TRAY, BREAKFAST IN BED\",1,12/1/2...</td>\n",
       "      <td>NaN</td>\n",
       "      <td>NaN</td>\n",
       "      <td>NaN</td>\n",
       "      <td>NaT</td>\n",
       "      <td>NaN</td>\n",
       "      <td>NaN</td>\n",
       "      <td>NaN</td>\n",
       "    </tr>\n",
       "    <tr>\n",
       "      <th>1014</th>\n",
       "      <td>536520,21111,\"SWISS ROLL TOWEL, CHOCOLATE  SPO...</td>\n",
       "      <td>NaN</td>\n",
       "      <td>NaN</td>\n",
       "      <td>NaN</td>\n",
       "      <td>NaT</td>\n",
       "      <td>NaN</td>\n",
       "      <td>NaN</td>\n",
       "      <td>NaN</td>\n",
       "    </tr>\n",
       "    <tr>\n",
       "      <th>...</th>\n",
       "      <td>...</td>\n",
       "      <td>...</td>\n",
       "      <td>...</td>\n",
       "      <td>...</td>\n",
       "      <td>...</td>\n",
       "      <td>...</td>\n",
       "      <td>...</td>\n",
       "      <td>...</td>\n",
       "    </tr>\n",
       "    <tr>\n",
       "      <th>541379</th>\n",
       "      <td>581498,22041,\"RECORD FRAME 7\"\" SINGLE SIZE \",2...</td>\n",
       "      <td>NaN</td>\n",
       "      <td>NaN</td>\n",
       "      <td>NaN</td>\n",
       "      <td>NaT</td>\n",
       "      <td>NaN</td>\n",
       "      <td>NaN</td>\n",
       "      <td>NaN</td>\n",
       "    </tr>\n",
       "    <tr>\n",
       "      <th>541549</th>\n",
       "      <td>581501,22165,\"DIAMANTE HEART SHAPED WALL MIRRO...</td>\n",
       "      <td>NaN</td>\n",
       "      <td>NaN</td>\n",
       "      <td>NaN</td>\n",
       "      <td>NaT</td>\n",
       "      <td>NaN</td>\n",
       "      <td>NaN</td>\n",
       "      <td>NaN</td>\n",
       "    </tr>\n",
       "    <tr>\n",
       "      <th>541614</th>\n",
       "      <td>581516,21111,\"SWISS ROLL TOWEL, CHOCOLATE  SPO...</td>\n",
       "      <td>NaN</td>\n",
       "      <td>NaN</td>\n",
       "      <td>NaN</td>\n",
       "      <td>NaT</td>\n",
       "      <td>NaN</td>\n",
       "      <td>NaN</td>\n",
       "      <td>NaN</td>\n",
       "    </tr>\n",
       "    <tr>\n",
       "      <th>541649</th>\n",
       "      <td>581538,85071C,\"CHARLIE+LOLA\"\"EXTREMELY BUSY\"\" ...</td>\n",
       "      <td>NaN</td>\n",
       "      <td>NaN</td>\n",
       "      <td>NaN</td>\n",
       "      <td>NaT</td>\n",
       "      <td>NaN</td>\n",
       "      <td>NaN</td>\n",
       "      <td>NaN</td>\n",
       "    </tr>\n",
       "    <tr>\n",
       "      <th>541787</th>\n",
       "      <td>581578,21506,\"FANCY FONT BIRTHDAY CARD, \",12,1...</td>\n",
       "      <td>NaN</td>\n",
       "      <td>NaN</td>\n",
       "      <td>NaN</td>\n",
       "      <td>NaT</td>\n",
       "      <td>NaN</td>\n",
       "      <td>NaN</td>\n",
       "      <td>NaN</td>\n",
       "    </tr>\n",
       "  </tbody>\n",
       "</table>\n",
       "<p>5989 rows × 8 columns</p>\n",
       "</div>"
      ],
      "text/plain": [
       "                                               Kode_Bayar Kode_Barang Barang  \\\n",
       "109     536381,82567,\"AIRLINE LOUNGE,METAL SIGN\",2,12/...         NaN    NaN   \n",
       "253     536394,21506,\"FANCY FONT BIRTHDAY CARD, \",24,1...         NaN    NaN   \n",
       "871     536477,22041,\"RECORD FRAME 7\"\" SINGLE SIZE \",4...         NaN    NaN   \n",
       "956     536520,22760,\"TRAY, BREAKFAST IN BED\",1,12/1/2...         NaN    NaN   \n",
       "1014    536520,21111,\"SWISS ROLL TOWEL, CHOCOLATE  SPO...         NaN    NaN   \n",
       "...                                                   ...         ...    ...   \n",
       "541379  581498,22041,\"RECORD FRAME 7\"\" SINGLE SIZE \",2...         NaN    NaN   \n",
       "541549  581501,22165,\"DIAMANTE HEART SHAPED WALL MIRRO...         NaN    NaN   \n",
       "541614  581516,21111,\"SWISS ROLL TOWEL, CHOCOLATE  SPO...         NaN    NaN   \n",
       "541649  581538,85071C,\"CHARLIE+LOLA\"\"EXTREMELY BUSY\"\" ...         NaN    NaN   \n",
       "541787  581578,21506,\"FANCY FONT BIRTHDAY CARD, \",12,1...         NaN    NaN   \n",
       "\n",
       "        Jumlah Tanggal_Transaksi  Harga_Satuan  Kode_Pelanggan Negara  \n",
       "109        NaN               NaT           NaN             NaN    NaN  \n",
       "253        NaN               NaT           NaN             NaN    NaN  \n",
       "871        NaN               NaT           NaN             NaN    NaN  \n",
       "956        NaN               NaT           NaN             NaN    NaN  \n",
       "1014       NaN               NaT           NaN             NaN    NaN  \n",
       "...        ...               ...           ...             ...    ...  \n",
       "541379     NaN               NaT           NaN             NaN    NaN  \n",
       "541549     NaN               NaT           NaN             NaN    NaN  \n",
       "541614     NaN               NaT           NaN             NaN    NaN  \n",
       "541649     NaN               NaT           NaN             NaN    NaN  \n",
       "541787     NaN               NaT           NaN             NaN    NaN  \n",
       "\n",
       "[5989 rows x 8 columns]"
      ]
     },
     "execution_count": 319,
     "metadata": {},
     "output_type": "execute_result"
    }
   ],
   "source": [
    "data[data['Kode_Pelanggan'].isnull()&data['Kode_Barang'].isnull()&data['Negara'].isnull()]"
   ]
  },
  {
   "cell_type": "code",
   "execution_count": 320,
   "id": "760f72bf",
   "metadata": {
    "scrolled": false
   },
   "outputs": [
    {
     "name": "stdout",
     "output_type": "stream",
     "text": [
      "Kode_Bayar                0\n",
      "Kode_Barang            5989\n",
      "Barang                 7443\n",
      "Jumlah                 5989\n",
      "Tanggal_Transaksi      5989\n",
      "Harga_Satuan           5989\n",
      "Kode_Pelanggan       138638\n",
      "Negara                 5989\n",
      "dtype: int64\n",
      "(536641, 8)\n"
     ]
    }
   ],
   "source": [
    "print(data.isnull().sum())\n",
    "print(data.shape)"
   ]
  },
  {
   "cell_type": "markdown",
   "id": "cb317ca3",
   "metadata": {},
   "source": [
    "There's a lot of missing values! This wont end well when we process it in the future. So it's best practice to handle it first, for now let's just drop rows with missing value to make our lives easier"
   ]
  },
  {
   "cell_type": "code",
   "execution_count": 321,
   "id": "db2a91d6",
   "metadata": {
    "scrolled": false
   },
   "outputs": [
    {
     "name": "stdout",
     "output_type": "stream",
     "text": [
      "Kode_Bayar           0\n",
      "Kode_Barang          0\n",
      "Barang               0\n",
      "Jumlah               0\n",
      "Tanggal_Transaksi    0\n",
      "Harga_Satuan         0\n",
      "Kode_Pelanggan       0\n",
      "Negara               0\n",
      "dtype: int64\n",
      "(398003, 8)\n"
     ]
    }
   ],
   "source": [
    "data.dropna(inplace=True)\n",
    "print(data.isnull().sum())\n",
    "print(data.shape)"
   ]
  },
  {
   "cell_type": "markdown",
   "id": "ec7f5f14",
   "metadata": {},
   "source": [
    "### Dealing with Incorrect Format"
   ]
  },
  {
   "cell_type": "markdown",
   "id": "d8750746",
   "metadata": {},
   "source": [
    "If we check closely, there's some 'Barang' entry that is not a product (written in lowercase), we can check 1st to see what is the correct format of product name"
   ]
  },
  {
   "cell_type": "code",
   "execution_count": 322,
   "id": "2d03a976",
   "metadata": {
    "scrolled": false
   },
   "outputs": [
    {
     "data": {
      "text/plain": [
       "array(['WHITE HANGING HEART T-LIGHT HOLDER', 'WHITE METAL LANTERN',\n",
       "       'CREAM CUPID HEARTS COAT HANGER', ...,\n",
       "       'SILVER AND BLACK ORBIT NECKLACE',\n",
       "       'PINK CRYSTAL SKULL PHONE CHARM',\n",
       "       'CREAM HANGING HEART T-LIGHT HOLDER'], dtype=object)"
      ]
     },
     "execution_count": 322,
     "metadata": {},
     "output_type": "execute_result"
    }
   ],
   "source": [
    "pd.unique(data['Barang'])"
   ]
  },
  {
   "cell_type": "markdown",
   "id": "4d4886a2",
   "metadata": {},
   "source": [
    "Our suspicion is correct, since the item naming format is in uppercase. We can see that all item that's in lowercase turns out to be error/irrelevant data. We can drop this data"
   ]
  },
  {
   "cell_type": "code",
   "execution_count": 323,
   "id": "50bb7030",
   "metadata": {},
   "outputs": [
    {
     "data": {
      "text/html": [
       "<div>\n",
       "<style scoped>\n",
       "    .dataframe tbody tr th:only-of-type {\n",
       "        vertical-align: middle;\n",
       "    }\n",
       "\n",
       "    .dataframe tbody tr th {\n",
       "        vertical-align: top;\n",
       "    }\n",
       "\n",
       "    .dataframe thead th {\n",
       "        text-align: right;\n",
       "    }\n",
       "</style>\n",
       "<table border=\"1\" class=\"dataframe\">\n",
       "  <thead>\n",
       "    <tr style=\"text-align: right;\">\n",
       "      <th></th>\n",
       "      <th>Kode_Bayar</th>\n",
       "      <th>Kode_Barang</th>\n",
       "      <th>Barang</th>\n",
       "      <th>Jumlah</th>\n",
       "      <th>Tanggal_Transaksi</th>\n",
       "      <th>Harga_Satuan</th>\n",
       "      <th>Kode_Pelanggan</th>\n",
       "      <th>Negara</th>\n",
       "    </tr>\n",
       "  </thead>\n",
       "  <tbody>\n",
       "    <tr>\n",
       "      <th>0</th>\n",
       "      <td>536365</td>\n",
       "      <td>85123A</td>\n",
       "      <td>WHITE HANGING HEART T-LIGHT HOLDER</td>\n",
       "      <td>6.0</td>\n",
       "      <td>2010-12-01 08:26:00</td>\n",
       "      <td>2.55</td>\n",
       "      <td>17850.0</td>\n",
       "      <td>United Kingdom</td>\n",
       "    </tr>\n",
       "    <tr>\n",
       "      <th>1</th>\n",
       "      <td>536365</td>\n",
       "      <td>71053</td>\n",
       "      <td>WHITE METAL LANTERN</td>\n",
       "      <td>6.0</td>\n",
       "      <td>2010-12-01 08:26:00</td>\n",
       "      <td>3.39</td>\n",
       "      <td>17850.0</td>\n",
       "      <td>United Kingdom</td>\n",
       "    </tr>\n",
       "    <tr>\n",
       "      <th>2</th>\n",
       "      <td>536365</td>\n",
       "      <td>84406B</td>\n",
       "      <td>CREAM CUPID HEARTS COAT HANGER</td>\n",
       "      <td>8.0</td>\n",
       "      <td>2010-12-01 08:26:00</td>\n",
       "      <td>2.75</td>\n",
       "      <td>17850.0</td>\n",
       "      <td>United Kingdom</td>\n",
       "    </tr>\n",
       "    <tr>\n",
       "      <th>3</th>\n",
       "      <td>536365</td>\n",
       "      <td>84029G</td>\n",
       "      <td>KNITTED UNION FLAG HOT WATER BOTTLE</td>\n",
       "      <td>6.0</td>\n",
       "      <td>2010-12-01 08:26:00</td>\n",
       "      <td>3.39</td>\n",
       "      <td>17850.0</td>\n",
       "      <td>United Kingdom</td>\n",
       "    </tr>\n",
       "    <tr>\n",
       "      <th>4</th>\n",
       "      <td>536365</td>\n",
       "      <td>84029E</td>\n",
       "      <td>RED WOOLLY HOTTIE WHITE HEART.</td>\n",
       "      <td>6.0</td>\n",
       "      <td>2010-12-01 08:26:00</td>\n",
       "      <td>3.39</td>\n",
       "      <td>17850.0</td>\n",
       "      <td>United Kingdom</td>\n",
       "    </tr>\n",
       "    <tr>\n",
       "      <th>...</th>\n",
       "      <td>...</td>\n",
       "      <td>...</td>\n",
       "      <td>...</td>\n",
       "      <td>...</td>\n",
       "      <td>...</td>\n",
       "      <td>...</td>\n",
       "      <td>...</td>\n",
       "      <td>...</td>\n",
       "    </tr>\n",
       "    <tr>\n",
       "      <th>396064</th>\n",
       "      <td>581587</td>\n",
       "      <td>22613</td>\n",
       "      <td>PACK OF 20 SPACEBOY NAPKINS</td>\n",
       "      <td>12.0</td>\n",
       "      <td>2011-12-09 12:50:00</td>\n",
       "      <td>0.85</td>\n",
       "      <td>12680.0</td>\n",
       "      <td>France</td>\n",
       "    </tr>\n",
       "    <tr>\n",
       "      <th>396065</th>\n",
       "      <td>581587</td>\n",
       "      <td>22899</td>\n",
       "      <td>CHILDREN'S APRON DOLLY GIRL</td>\n",
       "      <td>6.0</td>\n",
       "      <td>2011-12-09 12:50:00</td>\n",
       "      <td>2.10</td>\n",
       "      <td>12680.0</td>\n",
       "      <td>France</td>\n",
       "    </tr>\n",
       "    <tr>\n",
       "      <th>396066</th>\n",
       "      <td>581587</td>\n",
       "      <td>23254</td>\n",
       "      <td>CHILDRENS CUTLERY DOLLY GIRL</td>\n",
       "      <td>4.0</td>\n",
       "      <td>2011-12-09 12:50:00</td>\n",
       "      <td>4.15</td>\n",
       "      <td>12680.0</td>\n",
       "      <td>France</td>\n",
       "    </tr>\n",
       "    <tr>\n",
       "      <th>396067</th>\n",
       "      <td>581587</td>\n",
       "      <td>23255</td>\n",
       "      <td>CHILDRENS CUTLERY CIRCUS PARADE</td>\n",
       "      <td>4.0</td>\n",
       "      <td>2011-12-09 12:50:00</td>\n",
       "      <td>4.15</td>\n",
       "      <td>12680.0</td>\n",
       "      <td>France</td>\n",
       "    </tr>\n",
       "    <tr>\n",
       "      <th>396068</th>\n",
       "      <td>581587</td>\n",
       "      <td>22138</td>\n",
       "      <td>BAKING SET 9 PIECE RETROSPOT</td>\n",
       "      <td>3.0</td>\n",
       "      <td>2011-12-09 12:50:00</td>\n",
       "      <td>4.95</td>\n",
       "      <td>12680.0</td>\n",
       "      <td>France</td>\n",
       "    </tr>\n",
       "  </tbody>\n",
       "</table>\n",
       "<p>396069 rows × 8 columns</p>\n",
       "</div>"
      ],
      "text/plain": [
       "       Kode_Bayar Kode_Barang                               Barang  Jumlah  \\\n",
       "0          536365      85123A   WHITE HANGING HEART T-LIGHT HOLDER     6.0   \n",
       "1          536365       71053                  WHITE METAL LANTERN     6.0   \n",
       "2          536365      84406B       CREAM CUPID HEARTS COAT HANGER     8.0   \n",
       "3          536365      84029G  KNITTED UNION FLAG HOT WATER BOTTLE     6.0   \n",
       "4          536365      84029E       RED WOOLLY HOTTIE WHITE HEART.     6.0   \n",
       "...           ...         ...                                  ...     ...   \n",
       "396064     581587       22613          PACK OF 20 SPACEBOY NAPKINS    12.0   \n",
       "396065     581587       22899         CHILDREN'S APRON DOLLY GIRL      6.0   \n",
       "396066     581587       23254        CHILDRENS CUTLERY DOLLY GIRL      4.0   \n",
       "396067     581587       23255      CHILDRENS CUTLERY CIRCUS PARADE     4.0   \n",
       "396068     581587       22138        BAKING SET 9 PIECE RETROSPOT      3.0   \n",
       "\n",
       "         Tanggal_Transaksi  Harga_Satuan  Kode_Pelanggan          Negara  \n",
       "0      2010-12-01 08:26:00          2.55         17850.0  United Kingdom  \n",
       "1      2010-12-01 08:26:00          3.39         17850.0  United Kingdom  \n",
       "2      2010-12-01 08:26:00          2.75         17850.0  United Kingdom  \n",
       "3      2010-12-01 08:26:00          3.39         17850.0  United Kingdom  \n",
       "4      2010-12-01 08:26:00          3.39         17850.0  United Kingdom  \n",
       "...                    ...           ...             ...             ...  \n",
       "396064 2011-12-09 12:50:00          0.85         12680.0          France  \n",
       "396065 2011-12-09 12:50:00          2.10         12680.0          France  \n",
       "396066 2011-12-09 12:50:00          4.15         12680.0          France  \n",
       "396067 2011-12-09 12:50:00          4.15         12680.0          France  \n",
       "396068 2011-12-09 12:50:00          4.95         12680.0          France  \n",
       "\n",
       "[396069 rows x 8 columns]"
      ]
     },
     "execution_count": 323,
     "metadata": {},
     "output_type": "execute_result"
    }
   ],
   "source": [
    "data=data[data['Barang'].str.isupper().fillna(False)].reset_index(drop=True)\n",
    "data"
   ]
  },
  {
   "cell_type": "markdown",
   "id": "16b165f5",
   "metadata": {},
   "source": [
    "We also discovered that in the list of country, there's 'Unspecified' value, to create a good analysis, it has to be removed"
   ]
  },
  {
   "cell_type": "code",
   "execution_count": 324,
   "id": "63fd4c44",
   "metadata": {},
   "outputs": [
    {
     "data": {
      "text/plain": [
       "array(['United Kingdom', 'France', 'Australia', 'Netherlands', 'Germany',\n",
       "       'Norway', 'EIRE', 'Switzerland', 'Spain', 'Poland', 'Portugal',\n",
       "       'Italy', 'Belgium', 'Lithuania', 'Japan', 'Iceland',\n",
       "       'Channel Islands', 'Denmark', 'Cyprus', 'Sweden', 'Austria',\n",
       "       'Israel', 'Finland', 'Greece', 'Singapore', 'Lebanon',\n",
       "       'United Arab Emirates', 'Saudi Arabia', 'Czech Republic', 'Canada',\n",
       "       'Brazil', 'USA', 'European Community', 'Bahrain', 'Malta', 'RSA'],\n",
       "      dtype=object)"
      ]
     },
     "execution_count": 324,
     "metadata": {},
     "output_type": "execute_result"
    }
   ],
   "source": [
    "data=data[data['Negara']!='Unspecified']\n",
    "data['Negara'].unique()"
   ]
  },
  {
   "cell_type": "markdown",
   "id": "6b761632",
   "metadata": {},
   "source": [
    "List of country above is correct at last. Aftar all this pre-processing, we can proceed with analysis of the data"
   ]
  },
  {
   "cell_type": "markdown",
   "id": "3e29f9ac",
   "metadata": {},
   "source": [
    "## Q1. What items customers buy the most and are there any items we should ignore?\n"
   ]
  },
  {
   "cell_type": "markdown",
   "id": "c868e065",
   "metadata": {},
   "source": [
    "This is a pretty straightforward question, and we can sort based on number of purchase to determine most bought item"
   ]
  },
  {
   "cell_type": "code",
   "execution_count": 353,
   "id": "9395814a",
   "metadata": {
    "scrolled": true
   },
   "outputs": [
    {
     "data": {
      "text/html": [
       "<div>\n",
       "<style scoped>\n",
       "    .dataframe tbody tr th:only-of-type {\n",
       "        vertical-align: middle;\n",
       "    }\n",
       "\n",
       "    .dataframe tbody tr th {\n",
       "        vertical-align: top;\n",
       "    }\n",
       "\n",
       "    .dataframe thead th {\n",
       "        text-align: right;\n",
       "    }\n",
       "</style>\n",
       "<table border=\"1\" class=\"dataframe\">\n",
       "  <thead>\n",
       "    <tr style=\"text-align: right;\">\n",
       "      <th></th>\n",
       "      <th>Barang</th>\n",
       "      <th>Total</th>\n",
       "    </tr>\n",
       "  </thead>\n",
       "  <tbody>\n",
       "    <tr>\n",
       "      <th>0</th>\n",
       "      <td>WORLD WAR 2 GLIDERS ASSTD DESIGNS</td>\n",
       "      <td>53119.0</td>\n",
       "    </tr>\n",
       "    <tr>\n",
       "      <th>1</th>\n",
       "      <td>JUMBO BAG RED RETROSPOT</td>\n",
       "      <td>44963.0</td>\n",
       "    </tr>\n",
       "    <tr>\n",
       "      <th>2</th>\n",
       "      <td>ASSORTED COLOUR BIRD ORNAMENT</td>\n",
       "      <td>35193.0</td>\n",
       "    </tr>\n",
       "    <tr>\n",
       "      <th>3</th>\n",
       "      <td>WHITE HANGING HEART T-LIGHT HOLDER</td>\n",
       "      <td>34128.0</td>\n",
       "    </tr>\n",
       "    <tr>\n",
       "      <th>4</th>\n",
       "      <td>PACK OF 72 RETROSPOT CAKE CASES</td>\n",
       "      <td>33362.0</td>\n",
       "    </tr>\n",
       "  </tbody>\n",
       "</table>\n",
       "</div>"
      ],
      "text/plain": [
       "                               Barang    Total\n",
       "0   WORLD WAR 2 GLIDERS ASSTD DESIGNS  53119.0\n",
       "1             JUMBO BAG RED RETROSPOT  44963.0\n",
       "2       ASSORTED COLOUR BIRD ORNAMENT  35193.0\n",
       "3  WHITE HANGING HEART T-LIGHT HOLDER  34128.0\n",
       "4     PACK OF 72 RETROSPOT CAKE CASES  33362.0"
      ]
     },
     "execution_count": 353,
     "metadata": {},
     "output_type": "execute_result"
    }
   ],
   "source": [
    "summed_data=data.groupby(['Barang'])['Jumlah'].agg(Total='sum')\n",
    "#non_neg_data=summed_data[summed_data['Total']>=0]\n",
    "most_bought=non_neg_data.sort_values(by='Total',ascending=False).reset_index()\n",
    "\n",
    "most_bought.head(5)\n",
    "\n"
   ]
  },
  {
   "cell_type": "markdown",
   "id": "13694292",
   "metadata": {},
   "source": [
    "To determine which product we should ignore, we can see that from least bought item"
   ]
  },
  {
   "cell_type": "code",
   "execution_count": 326,
   "id": "5d64502d",
   "metadata": {},
   "outputs": [
    {
     "data": {
      "text/html": [
       "<div>\n",
       "<style scoped>\n",
       "    .dataframe tbody tr th:only-of-type {\n",
       "        vertical-align: middle;\n",
       "    }\n",
       "\n",
       "    .dataframe tbody tr th {\n",
       "        vertical-align: top;\n",
       "    }\n",
       "\n",
       "    .dataframe thead th {\n",
       "        text-align: right;\n",
       "    }\n",
       "</style>\n",
       "<table border=\"1\" class=\"dataframe\">\n",
       "  <thead>\n",
       "    <tr style=\"text-align: right;\">\n",
       "      <th></th>\n",
       "      <th>Barang</th>\n",
       "      <th>Total</th>\n",
       "    </tr>\n",
       "  </thead>\n",
       "  <tbody>\n",
       "    <tr>\n",
       "      <th>0</th>\n",
       "      <td>DIAMANTE HAIR GRIP PACK/2 CRYSTAL</td>\n",
       "      <td>0.0</td>\n",
       "    </tr>\n",
       "    <tr>\n",
       "      <th>1</th>\n",
       "      <td>DIAMANTE HAIR GRIP PACK/2 PERIDOT</td>\n",
       "      <td>0.0</td>\n",
       "    </tr>\n",
       "    <tr>\n",
       "      <th>2</th>\n",
       "      <td>HANGING RIDGE GLASS T-LIGHT HOLDER</td>\n",
       "      <td>0.0</td>\n",
       "    </tr>\n",
       "    <tr>\n",
       "      <th>3</th>\n",
       "      <td>WHITE BEADED GARLAND STRING 20LIGHT</td>\n",
       "      <td>0.0</td>\n",
       "    </tr>\n",
       "    <tr>\n",
       "      <th>4</th>\n",
       "      <td>DAISY HAIR COMB</td>\n",
       "      <td>0.0</td>\n",
       "    </tr>\n",
       "  </tbody>\n",
       "</table>\n",
       "</div>"
      ],
      "text/plain": [
       "                                Barang  Total\n",
       "0    DIAMANTE HAIR GRIP PACK/2 CRYSTAL    0.0\n",
       "1    DIAMANTE HAIR GRIP PACK/2 PERIDOT    0.0\n",
       "2   HANGING RIDGE GLASS T-LIGHT HOLDER    0.0\n",
       "3  WHITE BEADED GARLAND STRING 20LIGHT    0.0\n",
       "4                      DAISY HAIR COMB    0.0"
      ]
     },
     "execution_count": 326,
     "metadata": {},
     "output_type": "execute_result"
    }
   ],
   "source": [
    "least_bought=non_neg_data.sort_values(by='Total',ascending=True).reset_index()\n",
    "\n",
    "least_bought.head(5)"
   ]
  },
  {
   "cell_type": "markdown",
   "id": "b1a0eb0e",
   "metadata": {
    "scrolled": false
   },
   "source": [
    "## Q2. What is our strategy to increase sales based on our export destination countries?"
   ]
  },
  {
   "cell_type": "markdown",
   "id": "629a8b15",
   "metadata": {},
   "source": [
    "If we want to increase our sales based on export, we can try to put more effort on marketing in products that are well liked in each countries. So the best way to start if find out product preference in each country"
   ]
  },
  {
   "cell_type": "code",
   "execution_count": null,
   "id": "bb3c7f0d",
   "metadata": {},
   "outputs": [],
   "source": [
    "#subset_2=data[['Barang','Negara','Jumlah']]\n",
    "#subset_2_summed=subset_2.groupby(['Negara','Barang'],as_index=False).sum()\n",
    "#subset_2_summed.sort_values(['Negara','Jumlah'],ascending=False).groupby('Negara').head(3).reset_index()"
   ]
  },
  {
   "cell_type": "code",
   "execution_count": 354,
   "id": "e9afaf9c",
   "metadata": {
    "scrolled": true
   },
   "outputs": [
    {
     "data": {
      "text/html": [
       "<div>\n",
       "<style scoped>\n",
       "    .dataframe tbody tr th:only-of-type {\n",
       "        vertical-align: middle;\n",
       "    }\n",
       "\n",
       "    .dataframe tbody tr th {\n",
       "        vertical-align: top;\n",
       "    }\n",
       "\n",
       "    .dataframe thead th {\n",
       "        text-align: right;\n",
       "    }\n",
       "</style>\n",
       "<table border=\"1\" class=\"dataframe\">\n",
       "  <thead>\n",
       "    <tr style=\"text-align: right;\">\n",
       "      <th></th>\n",
       "      <th>Negara</th>\n",
       "      <th>Barang</th>\n",
       "      <th>Jumlah</th>\n",
       "    </tr>\n",
       "  </thead>\n",
       "  <tbody>\n",
       "    <tr>\n",
       "      <th>0</th>\n",
       "      <td>Australia</td>\n",
       "      <td>MINI PAINT SET VINTAGE</td>\n",
       "      <td>2916.0</td>\n",
       "    </tr>\n",
       "    <tr>\n",
       "      <th>1</th>\n",
       "      <td>Australia</td>\n",
       "      <td>RABBIT NIGHT LIGHT</td>\n",
       "      <td>1884.0</td>\n",
       "    </tr>\n",
       "    <tr>\n",
       "      <th>2</th>\n",
       "      <td>Australia</td>\n",
       "      <td>RED  HARMONICA IN BOX</td>\n",
       "      <td>1704.0</td>\n",
       "    </tr>\n",
       "    <tr>\n",
       "      <th>3</th>\n",
       "      <td>Austria</td>\n",
       "      <td>SET 12 KIDS COLOUR  CHALK STICKS</td>\n",
       "      <td>288.0</td>\n",
       "    </tr>\n",
       "    <tr>\n",
       "      <th>4</th>\n",
       "      <td>Austria</td>\n",
       "      <td>MINI JIGSAW PURDEY</td>\n",
       "      <td>240.0</td>\n",
       "    </tr>\n",
       "    <tr>\n",
       "      <th>...</th>\n",
       "      <td>...</td>\n",
       "      <td>...</td>\n",
       "      <td>...</td>\n",
       "    </tr>\n",
       "    <tr>\n",
       "      <th>103</th>\n",
       "      <td>United Arab Emirates</td>\n",
       "      <td>BIG DOUGHNUT FRIDGE MAGNETS</td>\n",
       "      <td>72.0</td>\n",
       "    </tr>\n",
       "    <tr>\n",
       "      <th>104</th>\n",
       "      <td>United Arab Emirates</td>\n",
       "      <td>BLUE PAISLEY TISSUE BOX</td>\n",
       "      <td>36.0</td>\n",
       "    </tr>\n",
       "    <tr>\n",
       "      <th>105</th>\n",
       "      <td>United Kingdom</td>\n",
       "      <td>WORLD WAR 2 GLIDERS ASSTD DESIGNS</td>\n",
       "      <td>47886.0</td>\n",
       "    </tr>\n",
       "    <tr>\n",
       "      <th>106</th>\n",
       "      <td>United Kingdom</td>\n",
       "      <td>JUMBO BAG RED RETROSPOT</td>\n",
       "      <td>40777.0</td>\n",
       "    </tr>\n",
       "    <tr>\n",
       "      <th>107</th>\n",
       "      <td>United Kingdom</td>\n",
       "      <td>ASSORTED COLOUR BIRD ORNAMENT</td>\n",
       "      <td>32580.0</td>\n",
       "    </tr>\n",
       "  </tbody>\n",
       "</table>\n",
       "<p>108 rows × 3 columns</p>\n",
       "</div>"
      ],
      "text/plain": [
       "                   Negara                             Barang   Jumlah\n",
       "0               Australia            MINI PAINT SET VINTAGE    2916.0\n",
       "1               Australia                 RABBIT NIGHT LIGHT   1884.0\n",
       "2               Australia             RED  HARMONICA IN BOX    1704.0\n",
       "3                 Austria   SET 12 KIDS COLOUR  CHALK STICKS    288.0\n",
       "4                 Austria                 MINI JIGSAW PURDEY    240.0\n",
       "..                    ...                                ...      ...\n",
       "103  United Arab Emirates        BIG DOUGHNUT FRIDGE MAGNETS     72.0\n",
       "104  United Arab Emirates            BLUE PAISLEY TISSUE BOX     36.0\n",
       "105        United Kingdom  WORLD WAR 2 GLIDERS ASSTD DESIGNS  47886.0\n",
       "106        United Kingdom            JUMBO BAG RED RETROSPOT  40777.0\n",
       "107        United Kingdom      ASSORTED COLOUR BIRD ORNAMENT  32580.0\n",
       "\n",
       "[108 rows x 3 columns]"
      ]
     },
     "execution_count": 354,
     "metadata": {},
     "output_type": "execute_result"
    }
   ],
   "source": [
    "subset_2=data[['Barang','Negara','Jumlah']]\n",
    "\n",
    "subset_2_summed=subset_2.groupby(['Negara','Barang'],as_index=False).sum()\n",
    "final=subset_2_summed.set_index('Barang').groupby('Negara')['Jumlah'].nlargest(3).reset_index()\n",
    "\n",
    "final"
   ]
  },
  {
   "cell_type": "markdown",
   "id": "0da53a71",
   "metadata": {},
   "source": [
    "From the table above we can see which products do each countries likes. For example in Australia, Mini Paint Set Vintage is quite popular. So we can try to capitalize on it. "
   ]
  },
  {
   "cell_type": "markdown",
   "id": "bcbae432",
   "metadata": {
    "scrolled": true
   },
   "source": [
    "## Q3. Do customer segmentation appropriately. Please explain in detail and completely"
   ]
  },
  {
   "cell_type": "code",
   "execution_count": 332,
   "id": "8d3731e1",
   "metadata": {
    "scrolled": false
   },
   "outputs": [
    {
     "name": "stderr",
     "output_type": "stream",
     "text": [
      "<ipython-input-332-476ac57f2072>:3: SettingWithCopyWarning: \n",
      "A value is trying to be set on a copy of a slice from a DataFrame.\n",
      "Try using .loc[row_indexer,col_indexer] = value instead\n",
      "\n",
      "See the caveats in the documentation: https://pandas.pydata.org/pandas-docs/stable/user_guide/indexing.html#returning-a-view-versus-a-copy\n",
      "  subset_3['Total_Beli']=subset_3['Harga_Satuan']*subset_3['Jumlah']\n"
     ]
    },
    {
     "data": {
      "text/html": [
       "<div>\n",
       "<style scoped>\n",
       "    .dataframe tbody tr th:only-of-type {\n",
       "        vertical-align: middle;\n",
       "    }\n",
       "\n",
       "    .dataframe tbody tr th {\n",
       "        vertical-align: top;\n",
       "    }\n",
       "\n",
       "    .dataframe thead th {\n",
       "        text-align: right;\n",
       "    }\n",
       "</style>\n",
       "<table border=\"1\" class=\"dataframe\">\n",
       "  <thead>\n",
       "    <tr style=\"text-align: right;\">\n",
       "      <th></th>\n",
       "      <th>Kode_Bayar</th>\n",
       "      <th>Kode_Pelanggan</th>\n",
       "      <th>Tanggal_Transaksi</th>\n",
       "      <th>Total_Beli</th>\n",
       "    </tr>\n",
       "  </thead>\n",
       "  <tbody>\n",
       "    <tr>\n",
       "      <th>0</th>\n",
       "      <td>536365</td>\n",
       "      <td>17850.0</td>\n",
       "      <td>2010-12-01 08:26:00</td>\n",
       "      <td>15.30</td>\n",
       "    </tr>\n",
       "    <tr>\n",
       "      <th>1</th>\n",
       "      <td>536365</td>\n",
       "      <td>17850.0</td>\n",
       "      <td>2010-12-01 08:26:00</td>\n",
       "      <td>20.34</td>\n",
       "    </tr>\n",
       "    <tr>\n",
       "      <th>2</th>\n",
       "      <td>536365</td>\n",
       "      <td>17850.0</td>\n",
       "      <td>2010-12-01 08:26:00</td>\n",
       "      <td>22.00</td>\n",
       "    </tr>\n",
       "    <tr>\n",
       "      <th>3</th>\n",
       "      <td>536365</td>\n",
       "      <td>17850.0</td>\n",
       "      <td>2010-12-01 08:26:00</td>\n",
       "      <td>20.34</td>\n",
       "    </tr>\n",
       "    <tr>\n",
       "      <th>4</th>\n",
       "      <td>536365</td>\n",
       "      <td>17850.0</td>\n",
       "      <td>2010-12-01 08:26:00</td>\n",
       "      <td>20.34</td>\n",
       "    </tr>\n",
       "  </tbody>\n",
       "</table>\n",
       "</div>"
      ],
      "text/plain": [
       "  Kode_Bayar  Kode_Pelanggan   Tanggal_Transaksi  Total_Beli\n",
       "0     536365         17850.0 2010-12-01 08:26:00       15.30\n",
       "1     536365         17850.0 2010-12-01 08:26:00       20.34\n",
       "2     536365         17850.0 2010-12-01 08:26:00       22.00\n",
       "3     536365         17850.0 2010-12-01 08:26:00       20.34\n",
       "4     536365         17850.0 2010-12-01 08:26:00       20.34"
      ]
     },
     "execution_count": 332,
     "metadata": {},
     "output_type": "execute_result"
    }
   ],
   "source": [
    "#Prepare the data for analysis\n",
    "subset_3=data\n",
    "subset_3['Total_Beli']=subset_3['Harga_Satuan']*subset_3['Jumlah']\n",
    "subset_3=data[['Kode_Bayar','Kode_Pelanggan','Tanggal_Transaksi','Total_Beli']].dropna()\n",
    "subset_3.head()\n"
   ]
  },
  {
   "cell_type": "markdown",
   "id": "e788ee51",
   "metadata": {},
   "source": [
    "### RFM"
   ]
  },
  {
   "cell_type": "markdown",
   "id": "ae5f37b6",
   "metadata": {},
   "source": [
    "Since there is no personal information of the customers, we can start analysing using the buying behavior. Analysis of buying behaviour is usually done using RFM Analysis. To quote Mr. Avinash Navlani : \n",
    "\n",
    "__\"RFM (Recency, Frequency, Monetary) analysis is a behavior-based approach grouping customers into segments. It groups the customers on the basis of their previous purchase transactions.\"__\n"
   ]
  },
  {
   "cell_type": "code",
   "execution_count": 333,
   "id": "c700622f",
   "metadata": {
    "scrolled": true
   },
   "outputs": [],
   "source": [
    "#PRESENT = dt.datetime(\"2021,6,30\")\n",
    "PRESENT=pd.to_datetime('today').normalize()\n",
    "rfm= subset_3.groupby('Kode_Pelanggan').agg({'Tanggal_Transaksi': lambda date: (PRESENT - date.max()).days,\n",
    "                                        'Kode_Bayar': lambda num: len(num),\n",
    "                                        'Total_Beli': lambda price: price.sum()})"
   ]
  },
  {
   "cell_type": "code",
   "execution_count": 334,
   "id": "1b799bc9",
   "metadata": {
    "scrolled": false
   },
   "outputs": [
    {
     "data": {
      "text/html": [
       "<div>\n",
       "<style scoped>\n",
       "    .dataframe tbody tr th:only-of-type {\n",
       "        vertical-align: middle;\n",
       "    }\n",
       "\n",
       "    .dataframe tbody tr th {\n",
       "        vertical-align: top;\n",
       "    }\n",
       "\n",
       "    .dataframe thead th {\n",
       "        text-align: right;\n",
       "    }\n",
       "</style>\n",
       "<table border=\"1\" class=\"dataframe\">\n",
       "  <thead>\n",
       "    <tr style=\"text-align: right;\">\n",
       "      <th></th>\n",
       "      <th>Tanggal_Transaksi</th>\n",
       "      <th>Kode_Bayar</th>\n",
       "      <th>Total_Beli</th>\n",
       "    </tr>\n",
       "    <tr>\n",
       "      <th>Kode_Pelanggan</th>\n",
       "      <th></th>\n",
       "      <th></th>\n",
       "      <th></th>\n",
       "    </tr>\n",
       "  </thead>\n",
       "  <tbody>\n",
       "    <tr>\n",
       "      <th>12346.0</th>\n",
       "      <td>3816</td>\n",
       "      <td>2</td>\n",
       "      <td>0.00</td>\n",
       "    </tr>\n",
       "    <tr>\n",
       "      <th>12347.0</th>\n",
       "      <td>3493</td>\n",
       "      <td>181</td>\n",
       "      <td>4299.80</td>\n",
       "    </tr>\n",
       "    <tr>\n",
       "      <th>12348.0</th>\n",
       "      <td>3566</td>\n",
       "      <td>31</td>\n",
       "      <td>1797.24</td>\n",
       "    </tr>\n",
       "    <tr>\n",
       "      <th>12349.0</th>\n",
       "      <td>3509</td>\n",
       "      <td>73</td>\n",
       "      <td>1757.55</td>\n",
       "    </tr>\n",
       "    <tr>\n",
       "      <th>12350.0</th>\n",
       "      <td>3801</td>\n",
       "      <td>17</td>\n",
       "      <td>334.40</td>\n",
       "    </tr>\n",
       "    <tr>\n",
       "      <th>...</th>\n",
       "      <td>...</td>\n",
       "      <td>...</td>\n",
       "      <td>...</td>\n",
       "    </tr>\n",
       "    <tr>\n",
       "      <th>18280.0</th>\n",
       "      <td>3768</td>\n",
       "      <td>10</td>\n",
       "      <td>180.60</td>\n",
       "    </tr>\n",
       "    <tr>\n",
       "      <th>18281.0</th>\n",
       "      <td>3671</td>\n",
       "      <td>7</td>\n",
       "      <td>80.82</td>\n",
       "    </tr>\n",
       "    <tr>\n",
       "      <th>18282.0</th>\n",
       "      <td>3498</td>\n",
       "      <td>13</td>\n",
       "      <td>176.60</td>\n",
       "    </tr>\n",
       "    <tr>\n",
       "      <th>18283.0</th>\n",
       "      <td>3494</td>\n",
       "      <td>719</td>\n",
       "      <td>2039.58</td>\n",
       "    </tr>\n",
       "    <tr>\n",
       "      <th>18287.0</th>\n",
       "      <td>3533</td>\n",
       "      <td>70</td>\n",
       "      <td>1837.28</td>\n",
       "    </tr>\n",
       "  </tbody>\n",
       "</table>\n",
       "<p>4356 rows × 3 columns</p>\n",
       "</div>"
      ],
      "text/plain": [
       "                Tanggal_Transaksi  Kode_Bayar  Total_Beli\n",
       "Kode_Pelanggan                                           \n",
       "12346.0                      3816           2        0.00\n",
       "12347.0                      3493         181     4299.80\n",
       "12348.0                      3566          31     1797.24\n",
       "12349.0                      3509          73     1757.55\n",
       "12350.0                      3801          17      334.40\n",
       "...                           ...         ...         ...\n",
       "18280.0                      3768          10      180.60\n",
       "18281.0                      3671           7       80.82\n",
       "18282.0                      3498          13      176.60\n",
       "18283.0                      3494         719     2039.58\n",
       "18287.0                      3533          70     1837.28\n",
       "\n",
       "[4356 rows x 3 columns]"
      ]
     },
     "execution_count": 334,
     "metadata": {},
     "output_type": "execute_result"
    }
   ],
   "source": [
    "rfm"
   ]
  },
  {
   "cell_type": "markdown",
   "id": "47576212",
   "metadata": {},
   "source": [
    "We'll need to rename the columns to fit it better "
   ]
  },
  {
   "cell_type": "code",
   "execution_count": 335,
   "id": "72b5b1f5",
   "metadata": {},
   "outputs": [],
   "source": [
    "rfm.columns=['recency','freq','buy_power']\n",
    "rfm['buy_power'] = rfm['buy_power'].astype(int)"
   ]
  },
  {
   "cell_type": "code",
   "execution_count": 336,
   "id": "2901440d",
   "metadata": {},
   "outputs": [
    {
     "data": {
      "text/plain": [
       "recency      int64\n",
       "freq         int64\n",
       "buy_power    int32\n",
       "dtype: object"
      ]
     },
     "execution_count": 336,
     "metadata": {},
     "output_type": "execute_result"
    }
   ],
   "source": [
    "rfm.dtypes"
   ]
  },
  {
   "cell_type": "markdown",
   "id": "91c6b2dd",
   "metadata": {},
   "source": [
    "Customers with the lowest recency, highest frequency and buying power are considered as top customers."
   ]
  },
  {
   "cell_type": "code",
   "execution_count": 337,
   "id": "3e8c82f1",
   "metadata": {
    "scrolled": true
   },
   "outputs": [
    {
     "data": {
      "text/html": [
       "<div>\n",
       "<style scoped>\n",
       "    .dataframe tbody tr th:only-of-type {\n",
       "        vertical-align: middle;\n",
       "    }\n",
       "\n",
       "    .dataframe tbody tr th {\n",
       "        vertical-align: top;\n",
       "    }\n",
       "\n",
       "    .dataframe thead th {\n",
       "        text-align: right;\n",
       "    }\n",
       "</style>\n",
       "<table border=\"1\" class=\"dataframe\">\n",
       "  <thead>\n",
       "    <tr style=\"text-align: right;\">\n",
       "      <th></th>\n",
       "      <th>recency</th>\n",
       "      <th>freq</th>\n",
       "      <th>buy_power</th>\n",
       "      <th>r_quartile</th>\n",
       "      <th>f_quartile</th>\n",
       "      <th>m_quartile</th>\n",
       "    </tr>\n",
       "    <tr>\n",
       "      <th>Kode_Pelanggan</th>\n",
       "      <th></th>\n",
       "      <th></th>\n",
       "      <th></th>\n",
       "      <th></th>\n",
       "      <th></th>\n",
       "      <th></th>\n",
       "    </tr>\n",
       "  </thead>\n",
       "  <tbody>\n",
       "    <tr>\n",
       "      <th>12346.0</th>\n",
       "      <td>3816</td>\n",
       "      <td>2</td>\n",
       "      <td>0</td>\n",
       "      <td>4</td>\n",
       "      <td>4</td>\n",
       "      <td>4</td>\n",
       "    </tr>\n",
       "    <tr>\n",
       "      <th>12347.0</th>\n",
       "      <td>3493</td>\n",
       "      <td>181</td>\n",
       "      <td>4299</td>\n",
       "      <td>1</td>\n",
       "      <td>1</td>\n",
       "      <td>1</td>\n",
       "    </tr>\n",
       "    <tr>\n",
       "      <th>12348.0</th>\n",
       "      <td>3566</td>\n",
       "      <td>31</td>\n",
       "      <td>1797</td>\n",
       "      <td>3</td>\n",
       "      <td>3</td>\n",
       "      <td>1</td>\n",
       "    </tr>\n",
       "    <tr>\n",
       "      <th>12349.0</th>\n",
       "      <td>3509</td>\n",
       "      <td>73</td>\n",
       "      <td>1757</td>\n",
       "      <td>2</td>\n",
       "      <td>2</td>\n",
       "      <td>1</td>\n",
       "    </tr>\n",
       "    <tr>\n",
       "      <th>12350.0</th>\n",
       "      <td>3801</td>\n",
       "      <td>17</td>\n",
       "      <td>334</td>\n",
       "      <td>4</td>\n",
       "      <td>4</td>\n",
       "      <td>3</td>\n",
       "    </tr>\n",
       "  </tbody>\n",
       "</table>\n",
       "</div>"
      ],
      "text/plain": [
       "                recency  freq  buy_power r_quartile f_quartile m_quartile\n",
       "Kode_Pelanggan                                                           \n",
       "12346.0            3816     2          0          4          4          4\n",
       "12347.0            3493   181       4299          1          1          1\n",
       "12348.0            3566    31       1797          3          3          1\n",
       "12349.0            3509    73       1757          2          2          1\n",
       "12350.0            3801    17        334          4          4          3"
      ]
     },
     "execution_count": 337,
     "metadata": {},
     "output_type": "execute_result"
    }
   ],
   "source": [
    "rfm['r_quartile'] = pd.qcut(rfm['recency'], 4, ['1','2','3','4'])\n",
    "rfm['f_quartile'] = pd.qcut(rfm['freq'], 4, ['4','3','2','1'])\n",
    "rfm['m_quartile'] = pd.qcut(rfm['buy_power'], 4, ['4','3','2','1'])\n",
    "\n",
    "rfm.head()"
   ]
  },
  {
   "cell_type": "code",
   "execution_count": 338,
   "id": "c6eebf70",
   "metadata": {},
   "outputs": [
    {
     "data": {
      "text/html": [
       "<div>\n",
       "<style scoped>\n",
       "    .dataframe tbody tr th:only-of-type {\n",
       "        vertical-align: middle;\n",
       "    }\n",
       "\n",
       "    .dataframe tbody tr th {\n",
       "        vertical-align: top;\n",
       "    }\n",
       "\n",
       "    .dataframe thead th {\n",
       "        text-align: right;\n",
       "    }\n",
       "</style>\n",
       "<table border=\"1\" class=\"dataframe\">\n",
       "  <thead>\n",
       "    <tr style=\"text-align: right;\">\n",
       "      <th></th>\n",
       "      <th>recency</th>\n",
       "      <th>freq</th>\n",
       "      <th>buy_power</th>\n",
       "      <th>r_quartile</th>\n",
       "      <th>f_quartile</th>\n",
       "      <th>m_quartile</th>\n",
       "      <th>RFM_Score</th>\n",
       "    </tr>\n",
       "    <tr>\n",
       "      <th>Kode_Pelanggan</th>\n",
       "      <th></th>\n",
       "      <th></th>\n",
       "      <th></th>\n",
       "      <th></th>\n",
       "      <th></th>\n",
       "      <th></th>\n",
       "      <th></th>\n",
       "    </tr>\n",
       "  </thead>\n",
       "  <tbody>\n",
       "    <tr>\n",
       "      <th>12346.0</th>\n",
       "      <td>3816</td>\n",
       "      <td>2</td>\n",
       "      <td>0</td>\n",
       "      <td>4</td>\n",
       "      <td>4</td>\n",
       "      <td>4</td>\n",
       "      <td>444</td>\n",
       "    </tr>\n",
       "    <tr>\n",
       "      <th>12347.0</th>\n",
       "      <td>3493</td>\n",
       "      <td>181</td>\n",
       "      <td>4299</td>\n",
       "      <td>1</td>\n",
       "      <td>1</td>\n",
       "      <td>1</td>\n",
       "      <td>111</td>\n",
       "    </tr>\n",
       "    <tr>\n",
       "      <th>12348.0</th>\n",
       "      <td>3566</td>\n",
       "      <td>31</td>\n",
       "      <td>1797</td>\n",
       "      <td>3</td>\n",
       "      <td>3</td>\n",
       "      <td>1</td>\n",
       "      <td>331</td>\n",
       "    </tr>\n",
       "    <tr>\n",
       "      <th>12349.0</th>\n",
       "      <td>3509</td>\n",
       "      <td>73</td>\n",
       "      <td>1757</td>\n",
       "      <td>2</td>\n",
       "      <td>2</td>\n",
       "      <td>1</td>\n",
       "      <td>221</td>\n",
       "    </tr>\n",
       "    <tr>\n",
       "      <th>12350.0</th>\n",
       "      <td>3801</td>\n",
       "      <td>17</td>\n",
       "      <td>334</td>\n",
       "      <td>4</td>\n",
       "      <td>4</td>\n",
       "      <td>3</td>\n",
       "      <td>443</td>\n",
       "    </tr>\n",
       "  </tbody>\n",
       "</table>\n",
       "</div>"
      ],
      "text/plain": [
       "                recency  freq  buy_power r_quartile f_quartile m_quartile  \\\n",
       "Kode_Pelanggan                                                              \n",
       "12346.0            3816     2          0          4          4          4   \n",
       "12347.0            3493   181       4299          1          1          1   \n",
       "12348.0            3566    31       1797          3          3          1   \n",
       "12349.0            3509    73       1757          2          2          1   \n",
       "12350.0            3801    17        334          4          4          3   \n",
       "\n",
       "               RFM_Score  \n",
       "Kode_Pelanggan            \n",
       "12346.0              444  \n",
       "12347.0              111  \n",
       "12348.0              331  \n",
       "12349.0              221  \n",
       "12350.0              443  "
      ]
     },
     "execution_count": 338,
     "metadata": {},
     "output_type": "execute_result"
    }
   ],
   "source": [
    "rfm['RFM_Score'] = rfm.r_quartile.astype(str)+ rfm.f_quartile.astype(str) + rfm.m_quartile.astype(str)\n",
    "rfm.head()"
   ]
  },
  {
   "cell_type": "code",
   "execution_count": 339,
   "id": "c366582e",
   "metadata": {
    "scrolled": true
   },
   "outputs": [
    {
     "name": "stdout",
     "output_type": "stream",
     "text": [
      "<class 'pandas.core.frame.DataFrame'>\n",
      "Float64Index: 4356 entries, 12346.0 to 18287.0\n",
      "Data columns (total 7 columns):\n",
      " #   Column      Non-Null Count  Dtype   \n",
      "---  ------      --------------  -----   \n",
      " 0   recency     4356 non-null   int64   \n",
      " 1   freq        4356 non-null   int64   \n",
      " 2   buy_power   4356 non-null   int32   \n",
      " 3   r_quartile  4356 non-null   category\n",
      " 4   f_quartile  4356 non-null   category\n",
      " 5   m_quartile  4356 non-null   category\n",
      " 6   RFM_Score   4356 non-null   object  \n",
      "dtypes: category(3), int32(1), int64(2), object(1)\n",
      "memory usage: 166.5+ KB\n"
     ]
    }
   ],
   "source": [
    "rfm.info()"
   ]
  },
  {
   "cell_type": "markdown",
   "id": "5ab96d63",
   "metadata": {},
   "source": [
    "Our customer has been segmentated into 64 different category. Lower r equals better customer, while higher f and m equals better customer"
   ]
  },
  {
   "cell_type": "markdown",
   "id": "bdf7013b",
   "metadata": {},
   "source": [
    "### K-Means Clustering"
   ]
  },
  {
   "cell_type": "markdown",
   "id": "550d73c3",
   "metadata": {},
   "source": [
    "After successfully putting cateogry on each customer, we can proceed with clustering the customer using K-Means algorithm. "
   ]
  },
  {
   "cell_type": "code",
   "execution_count": 340,
   "id": "d19784ad",
   "metadata": {
    "scrolled": true
   },
   "outputs": [
    {
     "data": {
      "text/html": [
       "<div>\n",
       "<style scoped>\n",
       "    .dataframe tbody tr th:only-of-type {\n",
       "        vertical-align: middle;\n",
       "    }\n",
       "\n",
       "    .dataframe tbody tr th {\n",
       "        vertical-align: top;\n",
       "    }\n",
       "\n",
       "    .dataframe thead th {\n",
       "        text-align: right;\n",
       "    }\n",
       "</style>\n",
       "<table border=\"1\" class=\"dataframe\">\n",
       "  <thead>\n",
       "    <tr style=\"text-align: right;\">\n",
       "      <th></th>\n",
       "      <th>r_quartile</th>\n",
       "      <th>f_quartile</th>\n",
       "      <th>m_quartile</th>\n",
       "    </tr>\n",
       "    <tr>\n",
       "      <th>Kode_Pelanggan</th>\n",
       "      <th></th>\n",
       "      <th></th>\n",
       "      <th></th>\n",
       "    </tr>\n",
       "  </thead>\n",
       "  <tbody>\n",
       "    <tr>\n",
       "      <th>12346.0</th>\n",
       "      <td>4</td>\n",
       "      <td>4</td>\n",
       "      <td>4</td>\n",
       "    </tr>\n",
       "    <tr>\n",
       "      <th>12347.0</th>\n",
       "      <td>1</td>\n",
       "      <td>1</td>\n",
       "      <td>1</td>\n",
       "    </tr>\n",
       "    <tr>\n",
       "      <th>12348.0</th>\n",
       "      <td>3</td>\n",
       "      <td>3</td>\n",
       "      <td>1</td>\n",
       "    </tr>\n",
       "    <tr>\n",
       "      <th>12349.0</th>\n",
       "      <td>2</td>\n",
       "      <td>2</td>\n",
       "      <td>1</td>\n",
       "    </tr>\n",
       "    <tr>\n",
       "      <th>12350.0</th>\n",
       "      <td>4</td>\n",
       "      <td>4</td>\n",
       "      <td>3</td>\n",
       "    </tr>\n",
       "    <tr>\n",
       "      <th>...</th>\n",
       "      <td>...</td>\n",
       "      <td>...</td>\n",
       "      <td>...</td>\n",
       "    </tr>\n",
       "    <tr>\n",
       "      <th>18280.0</th>\n",
       "      <td>4</td>\n",
       "      <td>4</td>\n",
       "      <td>4</td>\n",
       "    </tr>\n",
       "    <tr>\n",
       "      <th>18281.0</th>\n",
       "      <td>4</td>\n",
       "      <td>4</td>\n",
       "      <td>4</td>\n",
       "    </tr>\n",
       "    <tr>\n",
       "      <th>18282.0</th>\n",
       "      <td>1</td>\n",
       "      <td>4</td>\n",
       "      <td>4</td>\n",
       "    </tr>\n",
       "    <tr>\n",
       "      <th>18283.0</th>\n",
       "      <td>1</td>\n",
       "      <td>1</td>\n",
       "      <td>1</td>\n",
       "    </tr>\n",
       "    <tr>\n",
       "      <th>18287.0</th>\n",
       "      <td>2</td>\n",
       "      <td>2</td>\n",
       "      <td>1</td>\n",
       "    </tr>\n",
       "  </tbody>\n",
       "</table>\n",
       "<p>4356 rows × 3 columns</p>\n",
       "</div>"
      ],
      "text/plain": [
       "               r_quartile f_quartile m_quartile\n",
       "Kode_Pelanggan                                 \n",
       "12346.0                 4          4          4\n",
       "12347.0                 1          1          1\n",
       "12348.0                 3          3          1\n",
       "12349.0                 2          2          1\n",
       "12350.0                 4          4          3\n",
       "...                   ...        ...        ...\n",
       "18280.0                 4          4          4\n",
       "18281.0                 4          4          4\n",
       "18282.0                 1          4          4\n",
       "18283.0                 1          1          1\n",
       "18287.0                 2          2          1\n",
       "\n",
       "[4356 rows x 3 columns]"
      ]
     },
     "execution_count": 340,
     "metadata": {},
     "output_type": "execute_result"
    }
   ],
   "source": [
    "rfm_data=rfm[['r_quartile' ,'f_quartile' ,'m_quartile']]\n",
    "rfm_data"
   ]
  },
  {
   "cell_type": "markdown",
   "id": "a449b24d",
   "metadata": {},
   "source": [
    "For our first trial, we'll try to create K-Means model with 3 cluster, then evaluate later if more cluster produce better result"
   ]
  },
  {
   "cell_type": "code",
   "execution_count": 341,
   "id": "fe1f9d5b",
   "metadata": {},
   "outputs": [],
   "source": [
    "from sklearn.cluster import KMeans\n",
    "kmeans = KMeans(init=\"random\", n_clusters=3, max_iter=300, random_state=42)"
   ]
  },
  {
   "cell_type": "code",
   "execution_count": 342,
   "id": "5fd50ceb",
   "metadata": {},
   "outputs": [
    {
     "data": {
      "text/plain": [
       "KMeans(init='random', n_clusters=3, random_state=42)"
      ]
     },
     "execution_count": 342,
     "metadata": {},
     "output_type": "execute_result"
    }
   ],
   "source": [
    "kmeans.fit(rfm_data)"
   ]
  },
  {
   "cell_type": "code",
   "execution_count": 343,
   "id": "60b31dc9",
   "metadata": {
    "scrolled": true
   },
   "outputs": [
    {
     "data": {
      "text/plain": [
       "array([[3.60364063, 3.34997064, 3.28772754],\n",
       "       [1.83415706, 1.43218012, 1.44755629],\n",
       "       [1.64182692, 3.15865385, 3.19471154]])"
      ]
     },
     "execution_count": 343,
     "metadata": {},
     "output_type": "execute_result"
    }
   ],
   "source": [
    "kmeans.cluster_centers_"
   ]
  },
  {
   "cell_type": "code",
   "execution_count": 344,
   "id": "9307a73e",
   "metadata": {},
   "outputs": [
    {
     "data": {
      "text/plain": [
       "6"
      ]
     },
     "execution_count": 344,
     "metadata": {},
     "output_type": "execute_result"
    }
   ],
   "source": [
    "kmeans.n_iter_"
   ]
  },
  {
   "cell_type": "code",
   "execution_count": 345,
   "id": "f28f0ddc",
   "metadata": {},
   "outputs": [
    {
     "data": {
      "text/plain": [
       "array([0, 1, 1, 1, 0, 1, 0, 0, 0, 1, 1, 2, 1, 1, 0, 1, 1, 0, 2, 1, 1, 1,\n",
       "       0, 2, 2, 1, 1, 0, 1, 1, 1, 2, 0, 1, 0])"
      ]
     },
     "execution_count": 345,
     "metadata": {},
     "output_type": "execute_result"
    }
   ],
   "source": [
    "kmeans.labels_[:35]"
   ]
  },
  {
   "cell_type": "code",
   "execution_count": 346,
   "id": "d9bf129a",
   "metadata": {
    "scrolled": true
   },
   "outputs": [
    {
     "name": "stderr",
     "output_type": "stream",
     "text": [
      "<ipython-input-346-111843f4bc14>:1: SettingWithCopyWarning: \n",
      "A value is trying to be set on a copy of a slice from a DataFrame.\n",
      "Try using .loc[row_indexer,col_indexer] = value instead\n",
      "\n",
      "See the caveats in the documentation: https://pandas.pydata.org/pandas-docs/stable/user_guide/indexing.html#returning-a-view-versus-a-copy\n",
      "  rfm_data['klaster'] = kmeans.labels_\n"
     ]
    },
    {
     "data": {
      "text/plain": [
       "array([0, 1, 2])"
      ]
     },
     "execution_count": 346,
     "metadata": {},
     "output_type": "execute_result"
    }
   ],
   "source": [
    "rfm_data['klaster'] = kmeans.labels_\n",
    "rfm_data['klaster'].unique()"
   ]
  },
  {
   "cell_type": "markdown",
   "id": "d73c3fe2",
   "metadata": {},
   "source": [
    "From the result above we can see that the customer has been successfully segmentated into 3 category. To evaluate our model, we will be using Davies Bouldin Score (lower score means betterr segmentation)"
   ]
  },
  {
   "cell_type": "code",
   "execution_count": 347,
   "id": "c43e4abd",
   "metadata": {
    "scrolled": true
   },
   "outputs": [
    {
     "name": "stdout",
     "output_type": "stream",
     "text": [
      "0.7991075465285532\n"
     ]
    }
   ],
   "source": [
    "from sklearn.metrics import davies_bouldin_score \n",
    "labels = kmeans.labels_ \n",
    "print(davies_bouldin_score(rfm_data, labels)) "
   ]
  },
  {
   "cell_type": "markdown",
   "id": "6a9858cc",
   "metadata": {},
   "source": [
    "Not bad for first try, now let's see if increasing the number of cluster to 4 can improve our model"
   ]
  },
  {
   "cell_type": "code",
   "execution_count": 348,
   "id": "97449d60",
   "metadata": {
    "scrolled": true
   },
   "outputs": [
    {
     "name": "stdout",
     "output_type": "stream",
     "text": [
      "0.9291359557450112\n"
     ]
    }
   ],
   "source": [
    "#trying 4 cluster\n",
    "from sklearn.cluster import KMeans\n",
    "kmeans = KMeans(init=\"random\", n_clusters=4,n_init=10, max_iter=300, random_state=42)\n",
    "kmeans.fit(rfm_data)\n",
    "labels = kmeans.labels_ \n",
    "print(davies_bouldin_score(rfm_data, labels)) "
   ]
  },
  {
   "cell_type": "markdown",
   "id": "edb47baa",
   "metadata": {},
   "source": [
    "From above evaluation, we can see that it's better to cluster with 3 cluster (better davies bouldin score)"
   ]
  },
  {
   "cell_type": "markdown",
   "id": "042a7cea",
   "metadata": {},
   "source": [
    "## Q4.Hidden Insight?"
   ]
  },
  {
   "cell_type": "markdown",
   "id": "443ff5bc",
   "metadata": {},
   "source": [
    "We would like to know how much each country contribute to our income. The simplest way to do this is by calculating how big is the transaction in each country "
   ]
  },
  {
   "cell_type": "code",
   "execution_count": 350,
   "id": "efc4400f",
   "metadata": {},
   "outputs": [
    {
     "data": {
      "text/html": [
       "<div>\n",
       "<style scoped>\n",
       "    .dataframe tbody tr th:only-of-type {\n",
       "        vertical-align: middle;\n",
       "    }\n",
       "\n",
       "    .dataframe tbody tr th {\n",
       "        vertical-align: top;\n",
       "    }\n",
       "\n",
       "    .dataframe thead th {\n",
       "        text-align: right;\n",
       "    }\n",
       "</style>\n",
       "<table border=\"1\" class=\"dataframe\">\n",
       "  <thead>\n",
       "    <tr style=\"text-align: right;\">\n",
       "      <th></th>\n",
       "      <th>Negara</th>\n",
       "      <th>Total_Beli</th>\n",
       "    </tr>\n",
       "  </thead>\n",
       "  <tbody>\n",
       "    <tr>\n",
       "      <th>0</th>\n",
       "      <td>United Kingdom</td>\n",
       "      <td>6.754785e+06</td>\n",
       "    </tr>\n",
       "    <tr>\n",
       "      <th>1</th>\n",
       "      <td>Netherlands</td>\n",
       "      <td>2.835511e+05</td>\n",
       "    </tr>\n",
       "    <tr>\n",
       "      <th>2</th>\n",
       "      <td>EIRE</td>\n",
       "      <td>2.496449e+05</td>\n",
       "    </tr>\n",
       "    <tr>\n",
       "      <th>3</th>\n",
       "      <td>Germany</td>\n",
       "      <td>2.204102e+05</td>\n",
       "    </tr>\n",
       "    <tr>\n",
       "      <th>4</th>\n",
       "      <td>France</td>\n",
       "      <td>1.961262e+05</td>\n",
       "    </tr>\n",
       "    <tr>\n",
       "      <th>5</th>\n",
       "      <td>Australia</td>\n",
       "      <td>1.352262e+05</td>\n",
       "    </tr>\n",
       "    <tr>\n",
       "      <th>6</th>\n",
       "      <td>Spain</td>\n",
       "      <td>5.737425e+04</td>\n",
       "    </tr>\n",
       "    <tr>\n",
       "      <th>7</th>\n",
       "      <td>Switzerland</td>\n",
       "      <td>5.548936e+04</td>\n",
       "    </tr>\n",
       "    <tr>\n",
       "      <th>8</th>\n",
       "      <td>Belgium</td>\n",
       "      <td>4.063924e+04</td>\n",
       "    </tr>\n",
       "    <tr>\n",
       "      <th>9</th>\n",
       "      <td>Sweden</td>\n",
       "      <td>3.619865e+04</td>\n",
       "    </tr>\n",
       "    <tr>\n",
       "      <th>10</th>\n",
       "      <td>Norway</td>\n",
       "      <td>3.484833e+04</td>\n",
       "    </tr>\n",
       "    <tr>\n",
       "      <th>11</th>\n",
       "      <td>Japan</td>\n",
       "      <td>3.469523e+04</td>\n",
       "    </tr>\n",
       "    <tr>\n",
       "      <th>12</th>\n",
       "      <td>Portugal</td>\n",
       "      <td>2.891358e+04</td>\n",
       "    </tr>\n",
       "    <tr>\n",
       "      <th>13</th>\n",
       "      <td>Finland</td>\n",
       "      <td>2.167549e+04</td>\n",
       "    </tr>\n",
       "    <tr>\n",
       "      <th>14</th>\n",
       "      <td>Channel Islands</td>\n",
       "      <td>1.994064e+04</td>\n",
       "    </tr>\n",
       "    <tr>\n",
       "      <th>15</th>\n",
       "      <td>Denmark</td>\n",
       "      <td>1.863998e+04</td>\n",
       "    </tr>\n",
       "    <tr>\n",
       "      <th>16</th>\n",
       "      <td>Italy</td>\n",
       "      <td>1.651418e+04</td>\n",
       "    </tr>\n",
       "    <tr>\n",
       "      <th>17</th>\n",
       "      <td>Cyprus</td>\n",
       "      <td>1.270378e+04</td>\n",
       "    </tr>\n",
       "    <tr>\n",
       "      <th>18</th>\n",
       "      <td>Austria</td>\n",
       "      <td>1.012378e+04</td>\n",
       "    </tr>\n",
       "    <tr>\n",
       "      <th>19</th>\n",
       "      <td>Singapore</td>\n",
       "      <td>9.034530e+03</td>\n",
       "    </tr>\n",
       "    <tr>\n",
       "      <th>20</th>\n",
       "      <td>Poland</td>\n",
       "      <td>7.178340e+03</td>\n",
       "    </tr>\n",
       "    <tr>\n",
       "      <th>21</th>\n",
       "      <td>Israel</td>\n",
       "      <td>6.948000e+03</td>\n",
       "    </tr>\n",
       "    <tr>\n",
       "      <th>22</th>\n",
       "      <td>Greece</td>\n",
       "      <td>4.644820e+03</td>\n",
       "    </tr>\n",
       "    <tr>\n",
       "      <th>23</th>\n",
       "      <td>Iceland</td>\n",
       "      <td>4.299800e+03</td>\n",
       "    </tr>\n",
       "    <tr>\n",
       "      <th>24</th>\n",
       "      <td>Canada</td>\n",
       "      <td>3.594640e+03</td>\n",
       "    </tr>\n",
       "    <tr>\n",
       "      <th>25</th>\n",
       "      <td>Malta</td>\n",
       "      <td>2.503190e+03</td>\n",
       "    </tr>\n",
       "    <tr>\n",
       "      <th>26</th>\n",
       "      <td>United Arab Emirates</td>\n",
       "      <td>1.877080e+03</td>\n",
       "    </tr>\n",
       "    <tr>\n",
       "      <th>27</th>\n",
       "      <td>USA</td>\n",
       "      <td>1.726720e+03</td>\n",
       "    </tr>\n",
       "    <tr>\n",
       "      <th>28</th>\n",
       "      <td>Lebanon</td>\n",
       "      <td>1.693880e+03</td>\n",
       "    </tr>\n",
       "    <tr>\n",
       "      <th>29</th>\n",
       "      <td>Lithuania</td>\n",
       "      <td>1.661060e+03</td>\n",
       "    </tr>\n",
       "    <tr>\n",
       "      <th>30</th>\n",
       "      <td>European Community</td>\n",
       "      <td>1.291750e+03</td>\n",
       "    </tr>\n",
       "    <tr>\n",
       "      <th>31</th>\n",
       "      <td>Brazil</td>\n",
       "      <td>1.143600e+03</td>\n",
       "    </tr>\n",
       "    <tr>\n",
       "      <th>32</th>\n",
       "      <td>RSA</td>\n",
       "      <td>1.002310e+03</td>\n",
       "    </tr>\n",
       "    <tr>\n",
       "      <th>33</th>\n",
       "      <td>Czech Republic</td>\n",
       "      <td>7.077200e+02</td>\n",
       "    </tr>\n",
       "    <tr>\n",
       "      <th>34</th>\n",
       "      <td>Bahrain</td>\n",
       "      <td>5.484000e+02</td>\n",
       "    </tr>\n",
       "    <tr>\n",
       "      <th>35</th>\n",
       "      <td>Saudi Arabia</td>\n",
       "      <td>1.311700e+02</td>\n",
       "    </tr>\n",
       "  </tbody>\n",
       "</table>\n",
       "</div>"
      ],
      "text/plain": [
       "                  Negara    Total_Beli\n",
       "0         United Kingdom  6.754785e+06\n",
       "1            Netherlands  2.835511e+05\n",
       "2                   EIRE  2.496449e+05\n",
       "3                Germany  2.204102e+05\n",
       "4                 France  1.961262e+05\n",
       "5              Australia  1.352262e+05\n",
       "6                  Spain  5.737425e+04\n",
       "7            Switzerland  5.548936e+04\n",
       "8                Belgium  4.063924e+04\n",
       "9                 Sweden  3.619865e+04\n",
       "10                Norway  3.484833e+04\n",
       "11                 Japan  3.469523e+04\n",
       "12              Portugal  2.891358e+04\n",
       "13               Finland  2.167549e+04\n",
       "14       Channel Islands  1.994064e+04\n",
       "15               Denmark  1.863998e+04\n",
       "16                 Italy  1.651418e+04\n",
       "17                Cyprus  1.270378e+04\n",
       "18               Austria  1.012378e+04\n",
       "19             Singapore  9.034530e+03\n",
       "20                Poland  7.178340e+03\n",
       "21                Israel  6.948000e+03\n",
       "22                Greece  4.644820e+03\n",
       "23               Iceland  4.299800e+03\n",
       "24                Canada  3.594640e+03\n",
       "25                 Malta  2.503190e+03\n",
       "26  United Arab Emirates  1.877080e+03\n",
       "27                   USA  1.726720e+03\n",
       "28               Lebanon  1.693880e+03\n",
       "29             Lithuania  1.661060e+03\n",
       "30    European Community  1.291750e+03\n",
       "31                Brazil  1.143600e+03\n",
       "32                   RSA  1.002310e+03\n",
       "33        Czech Republic  7.077200e+02\n",
       "34               Bahrain  5.484000e+02\n",
       "35          Saudi Arabia  1.311700e+02"
      ]
     },
     "execution_count": 350,
     "metadata": {},
     "output_type": "execute_result"
    }
   ],
   "source": [
    "dataset_4=data[['Negara','Total_Beli']]\n",
    "ranking_buy=dataset_4.groupby('Negara').sum()['Total_Beli'].sort_values(ascending=False).reset_index()\n",
    "ranking_buy"
   ]
  },
  {
   "cell_type": "markdown",
   "id": "4e17c9f1",
   "metadata": {},
   "source": [
    "Turns out we got huge customer base in UK, followed by Netherlands and Ireland (EIRE). To visualize this better, we can use seaborn to plot number of purchases in each country"
   ]
  },
  {
   "cell_type": "code",
   "execution_count": 351,
   "id": "d7cd2f87",
   "metadata": {},
   "outputs": [
    {
     "data": {
      "image/png": "[encoded data removed]",
      "text/plain": [
       "<Figure size 1440x720 with 1 Axes>"
      ]
     },
     "metadata": {},
     "output_type": "display_data"
    }
   ],
   "source": [
    "sb.set_theme(style=\"whitegrid\")\n",
    "ax = sb.barplot(x=\"Negara\", y=\"Total_Beli\", data=ranking_buy)\n",
    "ax.set_xticklabels(ax.get_xticklabels(), rotation=90)\n",
    "plt.show()"
   ]
  }
 ],
 "metadata": {
  "kernelspec": {
   "display_name": "Python 3",
   "language": "python",
   "name": "python3"
  },
  "language_info": {
   "codemirror_mode": {
    "name": "ipython",
    "version": 3
   },
   "file_extension": ".py",
   "mimetype": "text/x-python",
   "name": "python",
   "nbconvert_exporter": "python",
   "pygments_lexer": "ipython3",
   "version": "3.8.8"
  }
 },
 "nbformat": 4,
 "nbformat_minor": 5
}
