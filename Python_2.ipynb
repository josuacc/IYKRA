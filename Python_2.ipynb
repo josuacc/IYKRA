{
 "metadata": {
  "language_info": {
   "codemirror_mode": {
    "name": "ipython",
    "version": 3
   },
   "file_extension": ".py",
   "mimetype": "text/x-python",
   "name": "python",
   "nbconvert_exporter": "python",
   "pygments_lexer": "ipython3",
   "version": "3.9.5"
  },
  "orig_nbformat": 4,
  "kernelspec": {
   "name": "python3",
   "display_name": "Python 3.9.5 64-bit ('PythonSoftwareFoundation.Python.3.9_qbz5n2kfra8p0')"
  },
  "interpreter": {
   "hash": "04adc10dee925493bed2ed49d6133787d5db54c2eae0a2df6f8bfc5316f04d8c"
  }
 },
 "nbformat": 4,
 "nbformat_minor": 2,
 "cells": [
  {
   "cell_type": "code",
   "execution_count": 1,
   "metadata": {},
   "outputs": [],
   "source": [
    "import sqlite3\n",
    "con=sqlite3.connect('mydatabase_2.db')"
   ]
  },
  {
   "cell_type": "code",
   "execution_count": 2,
   "metadata": {},
   "outputs": [],
   "source": [
    "cursorObj= con.cursor()\n",
    "cursorObj.execute(\"CREATE TABLE IF NOT EXISTS transactions(date DATE, sales FLOAT)\")\n",
    "con.commit()"
   ]
  },
  {
   "cell_type": "code",
   "execution_count": 3,
   "metadata": {},
   "outputs": [
    {
     "output_type": "execute_result",
     "data": {
      "text/plain": [
       "<sqlite3.Cursor at 0x14d08b53500>"
      ]
     },
     "metadata": {},
     "execution_count": 3
    }
   ],
   "source": [
    "data=[('2021-01-01',100),\n",
    "      ('2021-01-02',34),\n",
    "      ('2021-01-02',123),\n",
    "      ('2021-01-02',134),\n",
    "      ('2021-01-03',145),\n",
    "      ('2021-01-03',24),\n",
    "      ('2021-01-04',541),\n",
    "      ('2021-01-04',636),\n",
    "      ('2021-01-05',322),\n",
    "      ('2021-01-06',242),\n",
    "      ('2021-01-07',22),\n",
    "      ('2021-01-08',46)]\n",
    "\n",
    "cursorObj.executemany(\"INSERT INTO transactions(date,sales) VALUES(?,?)\",data)"
   ]
  },
  {
   "cell_type": "code",
   "execution_count": 4,
   "metadata": {},
   "outputs": [
    {
     "output_type": "stream",
     "name": "stdout",
     "text": [
      "('2021-01-01', 100.0)\n('2021-01-02', 291.0)\n('2021-01-03', 169.0)\n('2021-01-04', 1177.0)\n('2021-01-05', 322.0)\n('2021-01-06', 242.0)\n('2021-01-07', 22.0)\n('2021-01-08', 46.0)\n"
     ]
    }
   ],
   "source": [
    "def sql_fetch(con):\n",
    "\n",
    "    cursorObj = con.cursor()\n",
    "\n",
    "    cursorObj.execute('SELECT date, sum(sales) FROM transactions GROUP BY date')\n",
    "\n",
    "    rows = cursorObj.fetchall()\n",
    "\n",
    "    for row in rows:\n",
    "\n",
    "        print(row)\n",
    "\n",
    "sql_fetch(con)\n",
    "\n",
    "con.close()"
   ]
  },
  {
   "cell_type": "code",
   "execution_count": null,
   "metadata": {},
   "outputs": [],
   "source": []
  }
 ]
}