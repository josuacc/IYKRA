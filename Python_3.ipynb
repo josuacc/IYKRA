{
 "metadata": {
  "language_info": {
   "codemirror_mode": {
    "name": "ipython",
    "version": 3
   },
   "file_extension": ".py",
   "mimetype": "text/x-python",
   "name": "python",
   "nbconvert_exporter": "python",
   "pygments_lexer": "ipython3",
   "version": "3.9.5"
  },
  "orig_nbformat": 4,
  "kernelspec": {
   "name": "python3",
   "display_name": "Python 3.9.5 64-bit ('PythonSoftwareFoundation.Python.3.9_qbz5n2kfra8p0')"
  },
  "interpreter": {
   "hash": "04adc10dee925493bed2ed49d6133787d5db54c2eae0a2df6f8bfc5316f04d8c"
  }
 },
 "nbformat": 4,
 "nbformat_minor": 2,
 "cells": [
  {
   "cell_type": "code",
   "execution_count": 34,
   "metadata": {},
   "outputs": [
    {
     "output_type": "execute_result",
     "data": {
      "text/plain": [
       "   user_id  txs_id\n",
       "0        1       1\n",
       "1        1       3\n",
       "2        1       5\n",
       "3        2       2\n",
       "4        2       4\n",
       "5        2       6"
      ],
      "text/html": "<div>\n<style scoped>\n    .dataframe tbody tr th:only-of-type {\n        vertical-align: middle;\n    }\n\n    .dataframe tbody tr th {\n        vertical-align: top;\n    }\n\n    .dataframe thead th {\n        text-align: right;\n    }\n</style>\n<table border=\"1\" class=\"dataframe\">\n  <thead>\n    <tr style=\"text-align: right;\">\n      <th></th>\n      <th>user_id</th>\n      <th>txs_id</th>\n    </tr>\n  </thead>\n  <tbody>\n    <tr>\n      <th>0</th>\n      <td>1</td>\n      <td>1</td>\n    </tr>\n    <tr>\n      <th>1</th>\n      <td>1</td>\n      <td>3</td>\n    </tr>\n    <tr>\n      <th>2</th>\n      <td>1</td>\n      <td>5</td>\n    </tr>\n    <tr>\n      <th>3</th>\n      <td>2</td>\n      <td>2</td>\n    </tr>\n    <tr>\n      <th>4</th>\n      <td>2</td>\n      <td>4</td>\n    </tr>\n    <tr>\n      <th>5</th>\n      <td>2</td>\n      <td>6</td>\n    </tr>\n  </tbody>\n</table>\n</div>"
     },
     "metadata": {},
     "execution_count": 34
    }
   ],
   "source": [
    "import json\n",
    "import pandas as pd\n",
    "\n",
    "data ='''[\n",
    "   {\n",
    "   \t\"user\": {\n",
    "       \t\"id\": 1,\n",
    "       \t\"name\": \"agus\",\n",
    "       \t\"email\": \"agus@example.com\"\n",
    "   \t},\n",
    "   \t\"txs\": [\n",
    "       \t{\n",
    "           \t\"id\": 1,\n",
    "           \t\"tx_date\": \"2020-01-01\",\n",
    "           \t\"tx_amount\": 10,\n",
    "           \t\"tx_type\": \"buy\"\n",
    "       \t},\n",
    "       \t{\n",
    "           \t\"id\": 3,\n",
    "           \t\"tx_date\": \"2020-02-01\",\n",
    "           \t\"tx_amount\": 10,\n",
    "           \t\"tx_type\": \"buy\"\n",
    "       \t},\n",
    "       \t{\n",
    "           \t\"id\": 5,\n",
    "           \t\"tx_date\": \"2020-03-01\",\n",
    "           \t\"tx_amount\": 20,\n",
    "           \t\"tx_type\": \"sell\"\n",
    "       \t}\n",
    "   \t]\n",
    "   },\n",
    "   {\n",
    "   \t\"user\": {\n",
    "       \t\"id\": 2,\n",
    "       \t\"name\": \"asep\",\n",
    "       \t\"email\": \"asep@example.com\"\n",
    "   \t},\n",
    "   \t\"txs\": [\n",
    "       \t{\n",
    "           \t\"id\": 2,\n",
    "           \t\"tx_date\": \"2020-01-01\",\n",
    "           \t\"tx_amount\": 10,\n",
    "           \t\"tx_type\": \"sell\"\n",
    "       \t},\n",
    "       \t{\n",
    "           \t\"id\": 4,\n",
    "           \t\"tx_date\": \"2020-02-01\",\n",
    "           \t\"tx_amount\": 10,\n",
    "           \t\"tx_type\": \"sell\"\n",
    "       \t},\n",
    "       \t{\n",
    "           \t\"id\": 6,\n",
    "           \t\"tx_date\": \"2020-03-01\",\n",
    "           \t\"tx_amount\": 20,\n",
    "           \t\"tx_type\": \"buy\"\n",
    "       \t}\n",
    "   \t]\n",
    "   }\n",
    "]'''\n",
    "\n",
    "\n",
    "jsondata = json.loads(data)\n",
    "\n",
    "#CSV_1\n",
    "user_id = []\n",
    "tx_id = []\n",
    "for x in jsondata:\n",
    "    for y in x['txs']:\n",
    "        user_id.append(x['user']['id'])\n",
    "        tx_id.append(y['id'])\n",
    "table1 =  zip(usr_id, tx_id)\n",
    "CSV_1 = pd.DataFrame(data=table1,columns=['user_id','txs_id'])\n",
    "CSV_1\n",
    "\n",
    "\n",
    "\n",
    "\n",
    "\n"
   ]
  },
  {
   "cell_type": "code",
   "execution_count": 36,
   "metadata": {},
   "outputs": [
    {
     "output_type": "execute_result",
     "data": {
      "text/plain": [
       "   id  name             email\n",
       "0   1  agus  agus@example.com\n",
       "1   2  asep  asep@example.com"
      ],
      "text/html": "<div>\n<style scoped>\n    .dataframe tbody tr th:only-of-type {\n        vertical-align: middle;\n    }\n\n    .dataframe tbody tr th {\n        vertical-align: top;\n    }\n\n    .dataframe thead th {\n        text-align: right;\n    }\n</style>\n<table border=\"1\" class=\"dataframe\">\n  <thead>\n    <tr style=\"text-align: right;\">\n      <th></th>\n      <th>id</th>\n      <th>name</th>\n      <th>email</th>\n    </tr>\n  </thead>\n  <tbody>\n    <tr>\n      <th>0</th>\n      <td>1</td>\n      <td>agus</td>\n      <td>agus@example.com</td>\n    </tr>\n    <tr>\n      <th>1</th>\n      <td>2</td>\n      <td>asep</td>\n      <td>asep@example.com</td>\n    </tr>\n  </tbody>\n</table>\n</div>"
     },
     "metadata": {},
     "execution_count": 36
    }
   ],
   "source": [
    "#CSV_2\n",
    "user=[]\n",
    "for x in jsondata :\n",
    "\tuser.append(x['user'])\n",
    "\n",
    "CSV_2= pd.DataFrame(data=user)\n",
    "CSV_2"
   ]
  },
  {
   "cell_type": "code",
   "execution_count": 38,
   "metadata": {},
   "outputs": [
    {
     "output_type": "execute_result",
     "data": {
      "text/plain": [
       "                                                   0  \\\n",
       "0  {'id': 1, 'tx_date': '2020-01-01', 'tx_amount'...   \n",
       "1  {'id': 2, 'tx_date': '2020-01-01', 'tx_amount'...   \n",
       "\n",
       "                                                   1  \\\n",
       "0  {'id': 3, 'tx_date': '2020-02-01', 'tx_amount'...   \n",
       "1  {'id': 4, 'tx_date': '2020-02-01', 'tx_amount'...   \n",
       "\n",
       "                                                   2  \n",
       "0  {'id': 5, 'tx_date': '2020-03-01', 'tx_amount'...  \n",
       "1  {'id': 6, 'tx_date': '2020-03-01', 'tx_amount'...  "
      ],
      "text/html": "<div>\n<style scoped>\n    .dataframe tbody tr th:only-of-type {\n        vertical-align: middle;\n    }\n\n    .dataframe tbody tr th {\n        vertical-align: top;\n    }\n\n    .dataframe thead th {\n        text-align: right;\n    }\n</style>\n<table border=\"1\" class=\"dataframe\">\n  <thead>\n    <tr style=\"text-align: right;\">\n      <th></th>\n      <th>0</th>\n      <th>1</th>\n      <th>2</th>\n    </tr>\n  </thead>\n  <tbody>\n    <tr>\n      <th>0</th>\n      <td>{'id': 1, 'tx_date': '2020-01-01', 'tx_amount'...</td>\n      <td>{'id': 3, 'tx_date': '2020-02-01', 'tx_amount'...</td>\n      <td>{'id': 5, 'tx_date': '2020-03-01', 'tx_amount'...</td>\n    </tr>\n    <tr>\n      <th>1</th>\n      <td>{'id': 2, 'tx_date': '2020-01-01', 'tx_amount'...</td>\n      <td>{'id': 4, 'tx_date': '2020-02-01', 'tx_amount'...</td>\n      <td>{'id': 6, 'tx_date': '2020-03-01', 'tx_amount'...</td>\n    </tr>\n  </tbody>\n</table>\n</div>"
     },
     "metadata": {},
     "execution_count": 38
    }
   ],
   "source": [
    "#CSV_3\n",
    "transfer=[]\n",
    "for x in jsondata :\n",
    "\ttransfer.append(x['txs'])\n",
    "\n",
    "CSV_3= pd.DataFrame(data=transfer)\n",
    "CSV_3"
   ]
  }
 ]
}